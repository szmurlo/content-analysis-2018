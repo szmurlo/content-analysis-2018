{
 "cells": [
  {
   "cell_type": "markdown",
   "metadata": {},
   "source": [
    "# Week 4 - Word Embeddings\n",
    "\n",
    "This week, we build on last week's topic modeling techniques by taking a text corpus we have developed, specifying an underlying number of dimensions, and training a model with a neural network auto-encoder (one of Google's word2vec  algorithms) that best describes corpus words in their local linguistic contexts, and exploring their locations in the resulting space to learn about the discursive culture that produced them. Documents here are represented as densely indexed locations in dimensions, rather than sparse mixtures of topics (as in LDA topic modeling), so that distances between those documents (and words) are consistently superior, though they require the full vector of dimension loadings (rather than just a few selected topic loadings) to describe. We will explore these spaces to understand complex, semantic relationships between words, index documents with descriptive words, identify the likelihood that a given document would have been produced by a given vector model, and explore how semantic categories can help us understand the cultures that produced them.\n",
    "\n",
    "For this notebook we will be using the following packages"
   ]
  },
  {
   "cell_type": "code",
   "execution_count": 1,
   "metadata": {},
   "outputs": [
    {
     "name": "stderr",
     "output_type": "stream",
     "text": [
      "c:\\users\\andrew\\appdata\\local\\programs\\python\\python36\\lib\\site-packages\\gensim\\utils.py:860: UserWarning: detected Windows; aliasing chunkize to chunkize_serial\n",
      "  warnings.warn(\"detected Windows; aliasing chunkize to chunkize_serial\")\n"
     ]
    }
   ],
   "source": [
    "#Special module written for this class\n",
    "#This provides access to data and to helper functions from previous weeks\n",
    "#Make sure you update it before starting this notebook\n",
    "import lucem_illud #pip install -U git+git://github.com/Computational-Content-Analysis-2018/lucem_illud.git\n",
    "\n",
    "#All these packages need to be installed from pip\n",
    "import gensim#For word2vec, etc\n",
    "import requests #For downloading our datasets\n",
    "import nltk #For stop words and stemmers\n",
    "import numpy as np #For arrays\n",
    "import pandas #Gives us DataFrames\n",
    "import matplotlib.pyplot as plt #For graphics\n",
    "import seaborn #Makes the graphics look nicer\n",
    "import sklearn.metrics.pairwise #For cosine similarity\n",
    "import sklearn.manifold #For T-SNE\n",
    "import sklearn.decomposition #For PCA\n",
    "\n",
    "#gensim uses a couple of deprecated features\n",
    "#we can't do anything about them so lets ignore them \n",
    "import warnings\n",
    "warnings.filterwarnings(\"ignore\", category=DeprecationWarning) \n",
    "\n",
    "#This 'magic' command makes the plots work better\n",
    "#in the notebook, don't use it outside of a notebook.\n",
    "#Also you can ignore the warning\n",
    "%matplotlib inline\n",
    "\n",
    "import os #For looking through files\n",
    "import os.path #For managing file paths"
   ]
  },
  {
   "cell_type": "markdown",
   "metadata": {},
   "source": [
    "# Getting our corpora\n",
    "\n",
    "Instead of downloading our corpora, we have download them in advance; a subset of the [senate press releases](https://github.com/lintool/GrimmerSenatePressReleases) are in `grimmerPressReleases`. We will load them into a DataFrame, using a function from a couple weeks ago `loadTextDirectory`:"
   ]
  },
  {
   "cell_type": "code",
   "execution_count": 2,
   "metadata": {},
   "outputs": [
    {
     "data": {
      "text/html": [
       "<div>\n",
       "<style scoped>\n",
       "    .dataframe tbody tr th:only-of-type {\n",
       "        vertical-align: middle;\n",
       "    }\n",
       "\n",
       "    .dataframe tbody tr th {\n",
       "        vertical-align: top;\n",
       "    }\n",
       "\n",
       "    .dataframe thead th {\n",
       "        text-align: right;\n",
       "    }\n",
       "</style>\n",
       "<table border=\"1\" class=\"dataframe\">\n",
       "  <thead>\n",
       "    <tr style=\"text-align: right;\">\n",
       "      <th></th>\n",
       "      <th>text</th>\n",
       "    </tr>\n",
       "  </thead>\n",
       "  <tbody>\n",
       "    <tr>\n",
       "      <th>01Apr2005Kennedy14.txt</th>\n",
       "      <td>FOR IMMEDIATE RELEASE   FOR IMMEDIATE...</td>\n",
       "    </tr>\n",
       "    <tr>\n",
       "      <th>01Aug2005Kennedy12.txt</th>\n",
       "      <td>FOR IMMEDIATE RELEASE   FOR IMMEDIATE...</td>\n",
       "    </tr>\n",
       "    <tr>\n",
       "      <th>01Aug2006Kennedy10.txt</th>\n",
       "      <td>FOR IMMEDIATE RELEASE  FOR IMMEDIATE ...</td>\n",
       "    </tr>\n",
       "    <tr>\n",
       "      <th>01Aug2006Kennedy11.txt</th>\n",
       "      <td>FOR IMMEDIATE RELEASE  FOR IMMEDIATE ...</td>\n",
       "    </tr>\n",
       "    <tr>\n",
       "      <th>01Aug2006Kennedy12.txt</th>\n",
       "      <td>FOR IMMEDIATE RELEASE  FOR IMMEDIATE ...</td>\n",
       "    </tr>\n",
       "  </tbody>\n",
       "</table>\n",
       "</div>"
      ],
      "text/plain": [
       "                                                                     text\n",
       "01Apr2005Kennedy14.txt           FOR IMMEDIATE RELEASE   FOR IMMEDIATE...\n",
       "01Aug2005Kennedy12.txt           FOR IMMEDIATE RELEASE   FOR IMMEDIATE...\n",
       "01Aug2006Kennedy10.txt           FOR IMMEDIATE RELEASE  FOR IMMEDIATE ...\n",
       "01Aug2006Kennedy11.txt           FOR IMMEDIATE RELEASE  FOR IMMEDIATE ...\n",
       "01Aug2006Kennedy12.txt           FOR IMMEDIATE RELEASE  FOR IMMEDIATE ..."
      ]
     },
     "execution_count": 2,
     "metadata": {},
     "output_type": "execute_result"
    }
   ],
   "source": [
    "kennedyDF = lucem_illud.loadTextDirectory('../data/grimmerPressReleases/Kennedy/')\n",
    "kennedyDF[:5]"
   ]
  },
  {
   "cell_type": "markdown",
   "metadata": {},
   "source": [
    "This gets us one Senator's data, but with no metadata, we can add a category column with a simple command:"
   ]
  },
  {
   "cell_type": "code",
   "execution_count": 3,
   "metadata": {},
   "outputs": [
    {
     "data": {
      "text/html": [
       "<div>\n",
       "<style scoped>\n",
       "    .dataframe tbody tr th:only-of-type {\n",
       "        vertical-align: middle;\n",
       "    }\n",
       "\n",
       "    .dataframe tbody tr th {\n",
       "        vertical-align: top;\n",
       "    }\n",
       "\n",
       "    .dataframe thead th {\n",
       "        text-align: right;\n",
       "    }\n",
       "</style>\n",
       "<table border=\"1\" class=\"dataframe\">\n",
       "  <thead>\n",
       "    <tr style=\"text-align: right;\">\n",
       "      <th></th>\n",
       "      <th>text</th>\n",
       "      <th>category</th>\n",
       "    </tr>\n",
       "  </thead>\n",
       "  <tbody>\n",
       "    <tr>\n",
       "      <th>01Apr2005Kennedy14.txt</th>\n",
       "      <td>FOR IMMEDIATE RELEASE   FOR IMMEDIATE...</td>\n",
       "      <td>Kennedy</td>\n",
       "    </tr>\n",
       "    <tr>\n",
       "      <th>01Aug2005Kennedy12.txt</th>\n",
       "      <td>FOR IMMEDIATE RELEASE   FOR IMMEDIATE...</td>\n",
       "      <td>Kennedy</td>\n",
       "    </tr>\n",
       "    <tr>\n",
       "      <th>01Aug2006Kennedy10.txt</th>\n",
       "      <td>FOR IMMEDIATE RELEASE  FOR IMMEDIATE ...</td>\n",
       "      <td>Kennedy</td>\n",
       "    </tr>\n",
       "    <tr>\n",
       "      <th>01Aug2006Kennedy11.txt</th>\n",
       "      <td>FOR IMMEDIATE RELEASE  FOR IMMEDIATE ...</td>\n",
       "      <td>Kennedy</td>\n",
       "    </tr>\n",
       "    <tr>\n",
       "      <th>01Aug2006Kennedy12.txt</th>\n",
       "      <td>FOR IMMEDIATE RELEASE  FOR IMMEDIATE ...</td>\n",
       "      <td>Kennedy</td>\n",
       "    </tr>\n",
       "  </tbody>\n",
       "</table>\n",
       "</div>"
      ],
      "text/plain": [
       "                                                                     text  \\\n",
       "01Apr2005Kennedy14.txt           FOR IMMEDIATE RELEASE   FOR IMMEDIATE...   \n",
       "01Aug2005Kennedy12.txt           FOR IMMEDIATE RELEASE   FOR IMMEDIATE...   \n",
       "01Aug2006Kennedy10.txt           FOR IMMEDIATE RELEASE  FOR IMMEDIATE ...   \n",
       "01Aug2006Kennedy11.txt           FOR IMMEDIATE RELEASE  FOR IMMEDIATE ...   \n",
       "01Aug2006Kennedy12.txt           FOR IMMEDIATE RELEASE  FOR IMMEDIATE ...   \n",
       "\n",
       "                       category  \n",
       "01Apr2005Kennedy14.txt  Kennedy  \n",
       "01Aug2005Kennedy12.txt  Kennedy  \n",
       "01Aug2006Kennedy10.txt  Kennedy  \n",
       "01Aug2006Kennedy11.txt  Kennedy  \n",
       "01Aug2006Kennedy12.txt  Kennedy  "
      ]
     },
     "execution_count": 3,
     "metadata": {},
     "output_type": "execute_result"
    }
   ],
   "source": [
    "kennedyDF['category'] = 'Kennedy'\n",
    "kennedyDF[:5]"
   ]
  },
  {
   "cell_type": "markdown",
   "metadata": {},
   "source": [
    "We also will be wanting to load all the senators so we will need to loop over all the directories"
   ]
  },
  {
   "cell_type": "code",
   "execution_count": 4,
   "metadata": {},
   "outputs": [
    {
     "data": {
      "text/html": [
       "<div>\n",
       "<style scoped>\n",
       "    .dataframe tbody tr th:only-of-type {\n",
       "        vertical-align: middle;\n",
       "    }\n",
       "\n",
       "    .dataframe tbody tr th {\n",
       "        vertical-align: top;\n",
       "    }\n",
       "\n",
       "    .dataframe thead th {\n",
       "        text-align: right;\n",
       "    }\n",
       "</style>\n",
       "<table border=\"1\" class=\"dataframe\">\n",
       "  <thead>\n",
       "    <tr style=\"text-align: right;\">\n",
       "      <th></th>\n",
       "      <th>text</th>\n",
       "      <th>category</th>\n",
       "    </tr>\n",
       "  </thead>\n",
       "  <tbody>\n",
       "    <tr>\n",
       "      <th>01Apr2005Kennedy14.txt</th>\n",
       "      <td>FOR IMMEDIATE RELEASE   FOR IMMEDIATE...</td>\n",
       "      <td>Kennedy</td>\n",
       "    </tr>\n",
       "    <tr>\n",
       "      <th>01Aug2005Kennedy12.txt</th>\n",
       "      <td>FOR IMMEDIATE RELEASE   FOR IMMEDIATE...</td>\n",
       "      <td>Kennedy</td>\n",
       "    </tr>\n",
       "    <tr>\n",
       "      <th>01Aug2006Kennedy10.txt</th>\n",
       "      <td>FOR IMMEDIATE RELEASE  FOR IMMEDIATE ...</td>\n",
       "      <td>Kennedy</td>\n",
       "    </tr>\n",
       "    <tr>\n",
       "      <th>01Aug2006Kennedy11.txt</th>\n",
       "      <td>FOR IMMEDIATE RELEASE  FOR IMMEDIATE ...</td>\n",
       "      <td>Kennedy</td>\n",
       "    </tr>\n",
       "    <tr>\n",
       "      <th>01Aug2006Kennedy12.txt</th>\n",
       "      <td>FOR IMMEDIATE RELEASE  FOR IMMEDIATE ...</td>\n",
       "      <td>Kennedy</td>\n",
       "    </tr>\n",
       "  </tbody>\n",
       "</table>\n",
       "</div>"
      ],
      "text/plain": [
       "                                                                     text  \\\n",
       "01Apr2005Kennedy14.txt           FOR IMMEDIATE RELEASE   FOR IMMEDIATE...   \n",
       "01Aug2005Kennedy12.txt           FOR IMMEDIATE RELEASE   FOR IMMEDIATE...   \n",
       "01Aug2006Kennedy10.txt           FOR IMMEDIATE RELEASE  FOR IMMEDIATE ...   \n",
       "01Aug2006Kennedy11.txt           FOR IMMEDIATE RELEASE  FOR IMMEDIATE ...   \n",
       "01Aug2006Kennedy12.txt           FOR IMMEDIATE RELEASE  FOR IMMEDIATE ...   \n",
       "\n",
       "                       category  \n",
       "01Apr2005Kennedy14.txt  Kennedy  \n",
       "01Aug2005Kennedy12.txt  Kennedy  \n",
       "01Aug2006Kennedy10.txt  Kennedy  \n",
       "01Aug2006Kennedy11.txt  Kennedy  \n",
       "01Aug2006Kennedy12.txt  Kennedy  "
      ]
     },
     "execution_count": 4,
     "metadata": {},
     "output_type": "execute_result"
    }
   ],
   "source": [
    "dataDir = '../data/grimmerPressReleases'\n",
    "\n",
    "senReleasesDF = pandas.DataFrame()\n",
    "\n",
    "for senatorDir in (file for file in os.scandir(dataDir) if not file.name.startswith('.') and file.is_dir()):\n",
    "    senDF = lucem_illud.loadTextDirectory(senatorDir.path)\n",
    "    senDF['category'] = senatorDir.name\n",
    "    senReleasesDF = senReleasesDF.append(senDF, ignore_index = False)\n",
    "\n",
    "senReleasesDF[:5]"
   ]
  },
  {
   "cell_type": "markdown",
   "metadata": {},
   "source": [
    "We also want to remove stop words and stem. Tokenizing requires two steps. Word2Vec needs to retain the sentence structure so as to capture a \"continuous bag of words (CBOW)\" and all of the skip-grams within a word window. The algorithm tries to preserve the distances induced by one of these two local structures. This is very different from clustering and LDA topic modeling which extract unordered words alone. As such, tokenizing is slightly more involved, but we can still use `lucem_illud`."
   ]
  },
  {
   "cell_type": "code",
   "execution_count": 5,
   "metadata": {},
   "outputs": [
    {
     "data": {
      "text/html": [
       "<div>\n",
       "<style scoped>\n",
       "    .dataframe tbody tr th:only-of-type {\n",
       "        vertical-align: middle;\n",
       "    }\n",
       "\n",
       "    .dataframe tbody tr th {\n",
       "        vertical-align: top;\n",
       "    }\n",
       "\n",
       "    .dataframe thead th {\n",
       "        text-align: right;\n",
       "    }\n",
       "</style>\n",
       "<table border=\"1\" class=\"dataframe\">\n",
       "  <thead>\n",
       "    <tr style=\"text-align: right;\">\n",
       "      <th></th>\n",
       "      <th>text</th>\n",
       "      <th>category</th>\n",
       "      <th>tokenized_sents</th>\n",
       "      <th>normalized_sents</th>\n",
       "    </tr>\n",
       "  </thead>\n",
       "  <tbody>\n",
       "    <tr>\n",
       "      <th>01Apr2005Kennedy14.txt</th>\n",
       "      <td>FOR IMMEDIATE RELEASE   FOR IMMEDIATE...</td>\n",
       "      <td>Kennedy</td>\n",
       "      <td>[[FOR, IMMEDIATE, RELEASE, FOR, IMMEDIATE, REL...</td>\n",
       "      <td>[[immediate, release, immediate, release, cont...</td>\n",
       "    </tr>\n",
       "    <tr>\n",
       "      <th>01Aug2005Kennedy12.txt</th>\n",
       "      <td>FOR IMMEDIATE RELEASE   FOR IMMEDIATE...</td>\n",
       "      <td>Kennedy</td>\n",
       "      <td>[[FOR, IMMEDIATE, RELEASE, FOR, IMMEDIATE, REL...</td>\n",
       "      <td>[[immediate, release, immediate, release, cont...</td>\n",
       "    </tr>\n",
       "    <tr>\n",
       "      <th>01Aug2006Kennedy10.txt</th>\n",
       "      <td>FOR IMMEDIATE RELEASE  FOR IMMEDIATE ...</td>\n",
       "      <td>Kennedy</td>\n",
       "      <td>[[FOR, IMMEDIATE, RELEASE, FOR, IMMEDIATE, REL...</td>\n",
       "      <td>[[immediate, release, immediate, release, wash...</td>\n",
       "    </tr>\n",
       "    <tr>\n",
       "      <th>01Aug2006Kennedy11.txt</th>\n",
       "      <td>FOR IMMEDIATE RELEASE  FOR IMMEDIATE ...</td>\n",
       "      <td>Kennedy</td>\n",
       "      <td>[[FOR, IMMEDIATE, RELEASE, FOR, IMMEDIATE, REL...</td>\n",
       "      <td>[[immediate, release, immediate, release, wash...</td>\n",
       "    </tr>\n",
       "    <tr>\n",
       "      <th>01Aug2006Kennedy12.txt</th>\n",
       "      <td>FOR IMMEDIATE RELEASE  FOR IMMEDIATE ...</td>\n",
       "      <td>Kennedy</td>\n",
       "      <td>[[FOR, IMMEDIATE, RELEASE, FOR, IMMEDIATE, REL...</td>\n",
       "      <td>[[immediate, release, immediate, release, cont...</td>\n",
       "    </tr>\n",
       "  </tbody>\n",
       "</table>\n",
       "</div>"
      ],
      "text/plain": [
       "                                                                     text  \\\n",
       "01Apr2005Kennedy14.txt           FOR IMMEDIATE RELEASE   FOR IMMEDIATE...   \n",
       "01Aug2005Kennedy12.txt           FOR IMMEDIATE RELEASE   FOR IMMEDIATE...   \n",
       "01Aug2006Kennedy10.txt           FOR IMMEDIATE RELEASE  FOR IMMEDIATE ...   \n",
       "01Aug2006Kennedy11.txt           FOR IMMEDIATE RELEASE  FOR IMMEDIATE ...   \n",
       "01Aug2006Kennedy12.txt           FOR IMMEDIATE RELEASE  FOR IMMEDIATE ...   \n",
       "\n",
       "                       category  \\\n",
       "01Apr2005Kennedy14.txt  Kennedy   \n",
       "01Aug2005Kennedy12.txt  Kennedy   \n",
       "01Aug2006Kennedy10.txt  Kennedy   \n",
       "01Aug2006Kennedy11.txt  Kennedy   \n",
       "01Aug2006Kennedy12.txt  Kennedy   \n",
       "\n",
       "                                                          tokenized_sents  \\\n",
       "01Apr2005Kennedy14.txt  [[FOR, IMMEDIATE, RELEASE, FOR, IMMEDIATE, REL...   \n",
       "01Aug2005Kennedy12.txt  [[FOR, IMMEDIATE, RELEASE, FOR, IMMEDIATE, REL...   \n",
       "01Aug2006Kennedy10.txt  [[FOR, IMMEDIATE, RELEASE, FOR, IMMEDIATE, REL...   \n",
       "01Aug2006Kennedy11.txt  [[FOR, IMMEDIATE, RELEASE, FOR, IMMEDIATE, REL...   \n",
       "01Aug2006Kennedy12.txt  [[FOR, IMMEDIATE, RELEASE, FOR, IMMEDIATE, REL...   \n",
       "\n",
       "                                                         normalized_sents  \n",
       "01Apr2005Kennedy14.txt  [[immediate, release, immediate, release, cont...  \n",
       "01Aug2005Kennedy12.txt  [[immediate, release, immediate, release, cont...  \n",
       "01Aug2006Kennedy10.txt  [[immediate, release, immediate, release, wash...  \n",
       "01Aug2006Kennedy11.txt  [[immediate, release, immediate, release, wash...  \n",
       "01Aug2006Kennedy12.txt  [[immediate, release, immediate, release, cont...  "
      ]
     },
     "execution_count": 5,
     "metadata": {},
     "output_type": "execute_result"
    }
   ],
   "source": [
    "#Apply our functions, notice each row is a list of lists now\n",
    "senReleasesDF['tokenized_sents'] = senReleasesDF['text'].apply(lambda x: \n",
    "                                                               [nltk.word_tokenize(s) for s in nltk.sent_tokenize(x)])\n",
    "senReleasesDF['normalized_sents'] = senReleasesDF['tokenized_sents'].apply(lambda x: \n",
    "                                                                           [lucem_illud.normalizeTokens(s, \n",
    "                                                                                           stopwordLst = lucem_illud.stop_words_basic, \n",
    "                                                                                           stemmer = None) \n",
    "                                                                            for s in x])\n",
    "\n",
    "senReleasesDF[:5]"
   ]
  },
  {
   "cell_type": "markdown",
   "metadata": {},
   "source": [
    "# Word2Vec\n",
    "\n",
    "We will be using the gensim implementation of [Word2Vec](https://radimrehurek.com/gensim/models/word2vec.html#gensim.models.word2vec.Word2Vec).\n",
    "\n",
    "To load our data, we give all the sentences to the trainer. We just need to add the words as a list of sentences:"
   ]
  },
  {
   "cell_type": "code",
   "execution_count": 6,
   "metadata": {},
   "outputs": [],
   "source": [
    "senReleasesW2V = gensim.models.word2vec.Word2Vec(senReleasesDF['normalized_sents'].sum())"
   ]
  },
  {
   "cell_type": "markdown",
   "metadata": {},
   "source": [
    "Inside the word2vec object, the words each have a vector. To access the vector directly, use the square braces (`__getitem__`) method:"
   ]
  },
  {
   "cell_type": "code",
   "execution_count": 7,
   "metadata": {},
   "outputs": [
    {
     "name": "stdout",
     "output_type": "stream",
     "text": [
      "A 100 dimesional vector:\n"
     ]
    },
    {
     "data": {
      "text/plain": [
       "array([ 2.4466183 , -1.3200643 ,  1.1754942 , -2.5440223 ,  0.6602763 ,\n",
       "       -1.9527084 ,  1.0255735 , -0.6697826 ,  0.21679494,  0.29884762,\n",
       "        0.54188555, -2.2384784 , -1.4590354 ,  1.3806713 ,  2.1912825 ,\n",
       "        0.02015093,  2.3412569 ,  2.7323546 , -3.0405252 ,  0.86049366,\n",
       "        0.42992207,  0.8393139 , -2.932011  ,  1.348096  ,  0.2687939 ,\n",
       "       -1.5054699 ,  3.707573  ,  2.5192487 , -0.05631046,  0.2032572 ,\n",
       "       -0.78920084, -1.4912838 ,  1.2078873 , -0.51152945, -2.572017  ,\n",
       "       -1.6824322 ,  0.4133992 ,  1.4056545 ,  1.4908612 ,  1.438988  ,\n",
       "       -1.2954099 ,  0.7110585 ,  1.4115838 ,  1.4552451 ,  0.11420558,\n",
       "        0.4306166 ,  1.6057571 ,  0.02949693,  2.7673717 , -1.31807   ,\n",
       "        0.7641875 , -3.2072191 ,  0.8644992 ,  0.6764996 , -0.4559398 ,\n",
       "       -1.7001077 , -0.45467484,  0.29354137, -1.8602215 ,  1.6834128 ,\n",
       "        1.6810448 , -1.4731003 ,  0.2571231 ,  1.4767077 , -0.632983  ,\n",
       "       -1.2874956 ,  2.3953974 , -0.6940001 ,  0.38843465,  0.38857108,\n",
       "        0.2686703 , -1.6700989 , -0.22046846, -0.12883085,  2.426306  ,\n",
       "       -0.45104858, -1.152146  , -1.7187924 , -0.30521855, -0.00727239,\n",
       "       -0.86605954, -0.20088808, -0.2644862 , -0.714903  , -1.0096666 ,\n",
       "        0.07272025, -0.4364586 , -0.6945504 ,  0.34088397, -0.64007205,\n",
       "        0.24661846, -0.87195504,  1.9841408 ,  0.503347  , -0.5235585 ,\n",
       "       -0.40817708,  0.4113533 , -1.0265152 ,  3.27206   ,  0.3541401 ],\n",
       "      dtype=float32)"
      ]
     },
     "execution_count": 7,
     "metadata": {},
     "output_type": "execute_result"
    }
   ],
   "source": [
    "print(\"A {} dimesional vector:\".format(senReleasesW2V['president'].shape[0]))\n",
    "senReleasesW2V['president']"
   ]
  },
  {
   "cell_type": "markdown",
   "metadata": {},
   "source": [
    "If you want the full matrix, `syn0` stores all the vectors:"
   ]
  },
  {
   "cell_type": "code",
   "execution_count": 8,
   "metadata": {},
   "outputs": [
    {
     "data": {
      "text/plain": [
       "array([[-1.07032883e+00,  6.62285686e-01, -2.79125750e-01, ...,\n",
       "        -2.97281355e-01,  7.60464668e-01, -2.20023179e+00],\n",
       "       [ 2.47933960e+00,  1.92246544e+00, -1.26368856e+00, ...,\n",
       "         2.32000399e+00, -3.73335928e-01, -2.41652465e+00],\n",
       "       [-2.71740127e+00, -9.33073699e-01,  5.03785074e-01, ...,\n",
       "         4.19152886e-01, -7.68157482e-01, -1.65019488e+00],\n",
       "       ...,\n",
       "       [-2.49753278e-02,  4.84306412e-03,  9.56536010e-02, ...,\n",
       "        -6.52064607e-02,  7.26762488e-02, -6.77191019e-02],\n",
       "       [-3.97333130e-02, -6.20692894e-02,  6.09782971e-02, ...,\n",
       "        -4.71467748e-02,  6.48500323e-02, -2.60078278e-03],\n",
       "       [-2.69666053e-02, -1.48888016e-02,  1.19315259e-01, ...,\n",
       "        -1.20066084e-01,  1.17588617e-01, -1.29363403e-01]], dtype=float32)"
      ]
     },
     "execution_count": 8,
     "metadata": {},
     "output_type": "execute_result"
    }
   ],
   "source": [
    "senReleasesW2V.wv.syn0"
   ]
  },
  {
   "cell_type": "markdown",
   "metadata": {},
   "source": [
    "Then, `index2word` lets you translate from the matrix to words"
   ]
  },
  {
   "cell_type": "code",
   "execution_count": 9,
   "metadata": {},
   "outputs": [
    {
     "data": {
      "text/plain": [
       "'american'"
      ]
     },
     "execution_count": 9,
     "metadata": {},
     "output_type": "execute_result"
    }
   ],
   "source": [
    "senReleasesW2V.wv.index2word[10]"
   ]
  },
  {
   "cell_type": "markdown",
   "metadata": {},
   "source": [
    "Now we can look at a few things that come from the word vectors. The first is to find similar vectors (cosine similarity):"
   ]
  },
  {
   "cell_type": "code",
   "execution_count": 10,
   "metadata": {},
   "outputs": [
    {
     "data": {
      "text/plain": [
       "[('administration', 0.7734957337379456),\n",
       " ('presidents', 0.7458186149597168),\n",
       " ('administrations', 0.6756553053855896),\n",
       " ('george', 0.609849214553833),\n",
       " ('cheney', 0.6016781330108643),\n",
       " ('responds', 0.5321186780929565),\n",
       " ('quoting', 0.5302079916000366),\n",
       " ('rollback', 0.5283740162849426),\n",
       " ('ronald', 0.5257267355918884),\n",
       " ('republican', 0.4976758062839508)]"
      ]
     },
     "execution_count": 10,
     "metadata": {},
     "output_type": "execute_result"
    }
   ],
   "source": [
    "senReleasesW2V.most_similar('president')"
   ]
  },
  {
   "cell_type": "code",
   "execution_count": 11,
   "metadata": {},
   "outputs": [
    {
     "data": {
      "text/plain": [
       "[('wars', 0.6643564105033875),\n",
       " ('afghanistan', 0.649229884147644),\n",
       " ('disobedience', 0.6408018469810486),\n",
       " ('quagmire', 0.622207760810852),\n",
       " ('unresisted', 0.6127890348434448),\n",
       " ('battle', 0.6111575961112976),\n",
       " ('chaos', 0.5932959914207458),\n",
       " ('descending', 0.5921586751937866),\n",
       " ('insurgency', 0.5882351398468018),\n",
       " ('militarily', 0.5866488218307495)]"
      ]
     },
     "execution_count": 11,
     "metadata": {},
     "output_type": "execute_result"
    }
   ],
   "source": [
    "senReleasesW2V.most_similar('war')"
   ]
  },
  {
   "cell_type": "markdown",
   "metadata": {},
   "source": [
    "Or we can get this directly (calculated slightly differently):"
   ]
  },
  {
   "cell_type": "code",
   "execution_count": 17,
   "metadata": {},
   "outputs": [],
   "source": [
    "def cos_difference(embedding,word1,word2):\n",
    "    return sklearn.metrics.pairwise.cosine_similarity(embedding[word1].reshape(1,-1),embedding[word2].reshape(1,-1))"
   ]
  },
  {
   "cell_type": "code",
   "execution_count": 13,
   "metadata": {},
   "outputs": [
    {
     "data": {
      "text/plain": [
       "array([[0.49126574]], dtype=float32)"
      ]
     },
     "execution_count": 13,
     "metadata": {},
     "output_type": "execute_result"
    }
   ],
   "source": [
    "cos_difference(senReleasesW2V, 'war', 'unwinnable')"
   ]
  },
  {
   "cell_type": "markdown",
   "metadata": {},
   "source": [
    "We can also find which word least matches the others within a word set (cosine similarity):"
   ]
  },
  {
   "cell_type": "code",
   "execution_count": 14,
   "metadata": {},
   "outputs": [
    {
     "data": {
      "text/plain": [
       "'washington'"
      ]
     },
     "execution_count": 14,
     "metadata": {},
     "output_type": "execute_result"
    }
   ],
   "source": [
    "senReleasesW2V.doesnt_match(['administration', 'administrations', 'presidents', 'president', 'washington'])"
   ]
  },
  {
   "cell_type": "markdown",
   "metadata": {},
   "source": [
    "Find which word best matches the result of a semantic *equation* (here, we seek the words whose vectors best fit the missing entry from the equation: **X + Y - Z = _**."
   ]
  },
  {
   "cell_type": "code",
   "execution_count": 15,
   "metadata": {},
   "outputs": [
    {
     "data": {
      "text/plain": [
       "[('vetoed', 0.7051807045936584),\n",
       " ('bush', 0.6912012696266174),\n",
       " ('veto', 0.6900606155395508),\n",
       " ('blocked', 0.6640416383743286),\n",
       " ('vetoes', 0.6530345678329468),\n",
       " ('bushs', 0.6495181322097778),\n",
       " ('proposing', 0.6299116611480713),\n",
       " ('signature', 0.6281898021697998),\n",
       " ('signed', 0.6154439449310303),\n",
       " ('nail', 0.5918359756469727)]"
      ]
     },
     "execution_count": 15,
     "metadata": {},
     "output_type": "execute_result"
    }
   ],
   "source": [
    "senReleasesW2V.most_similar(positive=['clinton', 'republican'], negative = ['democrat'])"
   ]
  },
  {
   "cell_type": "markdown",
   "metadata": {},
   "source": [
    "Here we see that **Clinton + Republican - Democrat = Bush**. In other words, in this dataset and period, **Clinton** was to **Democrat** as **Bush** was to **Republican**. Whoah!"
   ]
  },
  {
   "cell_type": "markdown",
   "metadata": {},
   "source": [
    " But how do we argue that these are stable distances or associations?"
   ]
  },
  {
   "cell_type": "markdown",
   "metadata": {},
   "source": [
    "## Establishing Credible or Confidence Intervals"
   ]
  },
  {
   "cell_type": "markdown",
   "metadata": {},
   "source": [
    "### Boostrapping approach"
   ]
  },
  {
   "cell_type": "markdown",
   "metadata": {},
   "source": [
    "We propose well-established bootstrapping and subsampling methods to nonparametrically demonstrate the stability and significance of word associations within our embedding model. These allow us to establish conservative confidence intervals to both (a) distances between words in a model and (b) projections of words onto an induced dimension (e.g., man-woman). If we assume that the texts (e.g., newspapers, books) underlying our word embedding model are observations drawn from an independent and identically distributed (i.i.d.) population of cultural observations, then bootstrapping allows us to estimate the variance of word distances and projections by measuring those properties through sampling the empirical distribution of texts with replacement (Efron and Tibshirani 1994; Efron 2003). Operationally, if we wanted to bootstrap a 90% confidence interval of a word-word distance or word-dimension projection, we would sample a corpus the same size as the original corpus, but with replacement, 20 times, estimate word embedding models on each sample. Then we take the 2nd order (2nd smallest) statistic $s_{(2)}$--either distance or projection--as our confidence interval’s lower bound, and 19th order statistic $s_{(19)}$ as its upper bound. The distance between $s_{(2)}$ and $s_{(19)}$ across 20 bootstrap samples span the 5th to the 95th percentiles of the statistic’s variance, bounding the 90th confidence interval. A 95% confidence interval would span $s_{(2)}$ and $s_{(39)}$ in word embedding distances or projections estimated on 40 bootstrap samples of a corpus, tracing the 2.5th to 97.5th percentiles. "
   ]
  },
  {
   "cell_type": "code",
   "execution_count": 16,
   "metadata": {},
   "outputs": [
    {
     "data": {
      "text/plain": [
       "[0.26140133,\n",
       " 0.32364127,\n",
       " 0.3343975,\n",
       " 0.3819371,\n",
       " 0.3977269,\n",
       " 0.3982087,\n",
       " 0.41853404,\n",
       " 0.45023268,\n",
       " 0.46786943,\n",
       " 0.48427168,\n",
       " 0.5230077,\n",
       " 0.55024207,\n",
       " 0.61758876,\n",
       " 0.714847]"
      ]
     },
     "execution_count": 16,
     "metadata": {},
     "output_type": "execute_result"
    }
   ],
   "source": [
    "estimatesB=[]\n",
    "for x in range(20):\n",
    "    senReleasesW2VB = gensim.models.word2vec.Word2Vec(senReleasesDF['normalized_sents'].sample(frac=1.0, replace=True).sum())\n",
    "    try:\n",
    "        estimatesB.append(cos_difference(senReleasesW2VB, 'war', 'unwinnable')[0,0])\n",
    "    except KeyError:\n",
    "        #Missing one of the words from the vocab\n",
    "        pass\n",
    "                                                      \n",
    "estimatesB.sort()         \n",
    "estimatesB"
   ]
  },
  {
   "cell_type": "code",
   "execution_count": 17,
   "metadata": {},
   "outputs": [
    {
     "name": "stdout",
     "output_type": "stream",
     "text": [
      "The 90% confidence interval for the cosine distance between war and unwinnable is:\n",
      " 0.32364127 0.61758876\n"
     ]
    }
   ],
   "source": [
    "print(\"The 90% confidence interval for the cosine distance between war and unwinnable is:\\n\",estimatesB[1], estimatesB[-2])"
   ]
  },
  {
   "cell_type": "markdown",
   "metadata": {},
   "source": [
    "### Subsampling approach"
   ]
  },
  {
   "cell_type": "markdown",
   "metadata": {},
   "source": [
    "If the corpus is large, then we may take a subsampling approach, which randomly partitions the corpus into non-overlapping samples, then estimates the word-embedding models on these subsets and calculates confidence intervals as a function of the empirical distribution of distance or projection statistics and number of texts in the subsample (Politis and Romano 1997). Subsampling requires the same i.i.d. assumption as the bootrap (Politis and Romano 1992; Politis and Romano 1994). For 90% confidence intervals, we randomly partition the corpus into 20 subcorpora, then calculate $B^k=\\sqrt{\\tau_k}\\left(s^k-\\bar{s}\\right)$ for each $k$th sample, where $k$ is the number of texts and $s^k$ is the embedding distance or projection for the $k$th sample, and $\\bar{s}$ is the average statistic for all samples. The 90% confidence interval spans the 5th to 95th percentile variances, inscribed by $\\bar{s}-\\frac{B_{(19)}^k}{\\sqrt{\\tau}}$ and $\\bar{s}-\\frac{B_{(2)}^k}{\\sqrt{\\tau}}$, where $\\tau$ the number of texts in the total corpus and $s$ is the average statistic across all subsamples. As with bootrapping, a 95% confidence interval would require 40 subsamples; a 99% confidence would require 200 (.5th to 99.5th percentiles)."
   ]
  },
  {
   "cell_type": "code",
   "execution_count": 20,
   "metadata": {},
   "outputs": [
    {
     "ename": "NameError",
     "evalue": "name 'sample_indices' is not defined",
     "output_type": "error",
     "traceback": [
      "\u001b[0;31m---------------------------------------------------------------------------\u001b[0m",
      "\u001b[0;31mNameError\u001b[0m                                 Traceback (most recent call last)",
      "\u001b[0;32m<ipython-input-20-693370b629df>\u001b[0m in \u001b[0;36m<module>\u001b[0;34m()\u001b[0m\n\u001b[0;32m----> 1\u001b[0;31m \u001b[0msenReleasesDF\u001b[0m\u001b[0;34m[\u001b[0m\u001b[0msample_indices\u001b[0m \u001b[0;34m==\u001b[0m \u001b[0mi\u001b[0m\u001b[0;34m]\u001b[0m\u001b[0;34m\u001b[0m\u001b[0m\n\u001b[0m",
      "\u001b[0;31mNameError\u001b[0m: name 'sample_indices' is not defined"
     ]
    }
   ],
   "source": [
    "senReleasesDF[sample_indices == i]"
   ]
  },
  {
   "cell_type": "code",
   "execution_count": 21,
   "metadata": {},
   "outputs": [
    {
     "name": "stdout",
     "output_type": "stream",
     "text": [
      "[0.97870177 0.99572694 0.99562448 0.95073771 0.99353606 0.95295137\n",
      " 0.98833168 0.99419063 0.93485093 0.95254779]\n",
      "[383. 390. 380. 402. 367. 395. 388. 397. 419. 383.]\n"
     ]
    }
   ],
   "source": [
    "n_samples = 10\n",
    "sample_indices = np.random.randint(0,n_samples,(len(senReleasesDF),))\n",
    "\n",
    "s_k =np.array([])\n",
    "tau_k=np.array([])\n",
    "\n",
    "for i in range(n_samples):\n",
    "    sample_w2v = gensim.models.word2vec.Word2Vec(senReleasesDF[sample_indices == i]['normalized_sents'].sum())\n",
    "    try:\n",
    "        #Need to use words present in most samples\n",
    "        s_k = np.append(s_k, cos_difference(sample_w2v, 'war', 'responsibility')[0,0])\n",
    "    except KeyError:\n",
    "        pass\n",
    "    else:\n",
    "        tau_k = np.append(tau_k, len(senReleasesDF[sample_indices == i]))\n",
    "\n",
    "print(s_k)\n",
    "print(tau_k)\n",
    "\n",
    "tau = tau_k.sum()\n",
    "s = s_k.mean()\n",
    "B_k = np.sqrt(tau_k) * s_k-s_k.mean()"
   ]
  },
  {
   "cell_type": "code",
   "execution_count": 22,
   "metadata": {},
   "outputs": [
    {
     "name": "stdout",
     "output_type": "stream",
     "text": [
      "The 90% confidence interval for the cosine distance between war and responsibility is:\n",
      " 0.683040987028134 0.6745887887091121\n"
     ]
    }
   ],
   "source": [
    "print(\"The 90% confidence interval for the cosine distance between war and responsibility is:\\n\",s-B_k[-2]/np.sqrt(tau), s-B_k[1]/np.sqrt(tau))"
   ]
  },
  {
   "cell_type": "markdown",
   "metadata": {},
   "source": [
    "We can also save the vectors for later use:"
   ]
  },
  {
   "cell_type": "code",
   "execution_count": 23,
   "metadata": {},
   "outputs": [],
   "source": [
    "senReleasesW2V.save(\"senpressreleasesWORD2Vec.mm\")\n",
    "#Load with senReleasesW2V = gensim.models.word2vec.Word2Vec.load('senpressreleasesWORD2Vec.mm')"
   ]
  },
  {
   "cell_type": "markdown",
   "metadata": {},
   "source": [
    "## Visualize"
   ]
  },
  {
   "cell_type": "markdown",
   "metadata": {},
   "source": [
    "We can also use dimension reduction to visulize the vectors. We will start by selecting a subset we want to plot. Let's look at the top words from the set:"
   ]
  },
  {
   "cell_type": "code",
   "execution_count": 24,
   "metadata": {},
   "outputs": [],
   "source": [
    "numWords = 150\n",
    "targetWords = senReleasesW2V.wv.index2word[:numWords]"
   ]
  },
  {
   "cell_type": "markdown",
   "metadata": {},
   "source": [
    "We can then extract their vectors and create our own smaller matrix that preserved the distances from the original:"
   ]
  },
  {
   "cell_type": "code",
   "execution_count": 25,
   "metadata": {},
   "outputs": [
    {
     "data": {
      "text/plain": [
       "array([[-1.0703288 ,  0.6622857 , -0.27912575, ..., -0.29728135,\n",
       "         0.76046467, -2.2002318 ],\n",
       "       [ 2.4793396 ,  1.9224654 , -1.2636886 , ...,  2.320004  ,\n",
       "        -0.37333593, -2.4165246 ],\n",
       "       [-2.7174013 , -0.9330737 ,  0.5037851 , ...,  0.4191529 ,\n",
       "        -0.7681575 , -1.6501949 ],\n",
       "       ...,\n",
       "       [ 0.40475163,  1.0131457 , -0.12984873, ..., -0.36399004,\n",
       "         0.22120844, -1.326513  ],\n",
       "       [ 0.16963232, -0.44604835, -0.07262771, ..., -0.5104725 ,\n",
       "         0.886871  ,  0.41155785],\n",
       "       [ 0.37996483, -0.31794795,  1.2117211 , ...,  1.6058269 ,\n",
       "        -0.92251664, -0.6591274 ]], dtype=float32)"
      ]
     },
     "execution_count": 25,
     "metadata": {},
     "output_type": "execute_result"
    }
   ],
   "source": [
    "wordsSubMatrix = []\n",
    "for word in targetWords:\n",
    "    wordsSubMatrix.append(senReleasesW2V[word])\n",
    "wordsSubMatrix = np.array(wordsSubMatrix)\n",
    "wordsSubMatrix"
   ]
  },
  {
   "cell_type": "markdown",
   "metadata": {},
   "source": [
    "Then we can use PCA to reduce the dimesions (e.g., to 50), and [T-SNE](https://en.wikipedia.org/wiki/T-distributed_stochastic_neighbor_embedding) to project them down to the two we will visualize. We note that this is nondeterministic process, and so you can repeat and achieve alternative projectsions/visualizations of the words:"
   ]
  },
  {
   "cell_type": "code",
   "execution_count": 26,
   "metadata": {},
   "outputs": [],
   "source": [
    "pcaWords = sklearn.decomposition.PCA(n_components = 50).fit(wordsSubMatrix)\n",
    "reducedPCA_data = pcaWords.transform(wordsSubMatrix)\n",
    "#T-SNE is theoretically better, but you should experiment\n",
    "tsneWords = sklearn.manifold.TSNE(n_components = 2, early_exaggeration = 25).fit_transform(reducedPCA_data)"
   ]
  },
  {
   "cell_type": "markdown",
   "metadata": {},
   "source": [
    "We now can plot the points"
   ]
  },
  {
   "cell_type": "code",
   "execution_count": 27,
   "metadata": {
    "scrolled": true
   },
   "outputs": [
    {
     "data": {
      "image/png": "[encoded data removed]",
      "text/plain": [
       "<matplotlib.figure.Figure at 0x2553de09ba8>"
      ]
     },
     "metadata": {},
     "output_type": "display_data"
    }
   ],
   "source": [
    "fig = plt.figure(figsize = (15,10))\n",
    "ax = fig.add_subplot(111)\n",
    "ax.set_frame_on(False)\n",
    "plt.scatter(tsneWords[:, 0], tsneWords[:, 1], alpha = 0)#Making the points invisible \n",
    "for i, word in enumerate(targetWords):\n",
    "    ax.annotate(word, \n",
    "                (tsneWords[:, 0][i],tsneWords[:, 1][i]), \n",
    "                size =  20 * (numWords - i) / numWords, \n",
    "                alpha = .8 * (numWords - i) / numWords + .2)\n",
    "plt.xticks(())\n",
    "plt.yticks(())\n",
    "plt.show()"
   ]
  },
  {
   "cell_type": "markdown",
   "metadata": {},
   "source": [
    "My visualization above puts ``iraq`` next to ``time`` and ``bill`` near ``help``. <img src='../data/examplewordcloud.svg'>"
   ]
  },
  {
   "cell_type": "markdown",
   "metadata": {},
   "source": [
    "What if a new senator come along with whose names starts with K? Could we analyse their releases too without rerunning the entire embedding? Lets try with Cardin in `../data/grimmerPressReleases_extra/Cardin`. First we need to load and proccess the releases:"
   ]
  },
  {
   "cell_type": "code",
   "execution_count": 28,
   "metadata": {},
   "outputs": [
    {
     "data": {
      "text/html": [
       "<div>\n",
       "<style scoped>\n",
       "    .dataframe tbody tr th:only-of-type {\n",
       "        vertical-align: middle;\n",
       "    }\n",
       "\n",
       "    .dataframe tbody tr th {\n",
       "        vertical-align: top;\n",
       "    }\n",
       "\n",
       "    .dataframe thead th {\n",
       "        text-align: right;\n",
       "    }\n",
       "</style>\n",
       "<table border=\"1\" class=\"dataframe\">\n",
       "  <thead>\n",
       "    <tr style=\"text-align: right;\">\n",
       "      <th></th>\n",
       "      <th>text</th>\n",
       "      <th>category</th>\n",
       "      <th>tokenized_sents</th>\n",
       "      <th>normalized_sents</th>\n",
       "    </tr>\n",
       "  </thead>\n",
       "  <tbody>\n",
       "    <tr>\n",
       "      <th>01Aug2007Cardin156.txt</th>\n",
       "      <td>...</td>\n",
       "      <td>Cardin</td>\n",
       "      <td>[[CARDIN, MIKULSKI, PRAISES, PASSAGE, OF, STRO...</td>\n",
       "      <td>[[cardin, mikulski, praises, passage, strong, ...</td>\n",
       "    </tr>\n",
       "    <tr>\n",
       "      <th>01Feb2007Cardin297.txt</th>\n",
       "      <td>...</td>\n",
       "      <td>Cardin</td>\n",
       "      <td>[[CARDIN, VOTES, TO, INCREASE, MINIMUM, WAGE, ...</td>\n",
       "      <td>[[cardin, votes, increase, minimum, wage, pay,...</td>\n",
       "    </tr>\n",
       "    <tr>\n",
       "      <th>01Feb2007Cardin298.txt</th>\n",
       "      <td>...</td>\n",
       "      <td>Cardin</td>\n",
       "      <td>[[S, 453, SEN, CARDIN, CO, SPONSORS, BILL, TO,...</td>\n",
       "      <td>[[sen, cardin, co, sponsors, bill, protect, vo...</td>\n",
       "    </tr>\n",
       "    <tr>\n",
       "      <th>01Feb2007Cardin299.txt</th>\n",
       "      <td>...</td>\n",
       "      <td>Cardin</td>\n",
       "      <td>[[S, 450, CARDIN, INTRODUCES, BILL, TO, ELIMIN...</td>\n",
       "      <td>[[cardin, introduces, bill, eliminate, arbitra...</td>\n",
       "    </tr>\n",
       "    <tr>\n",
       "      <th>01Jun2007Cardin199.txt</th>\n",
       "      <td>...</td>\n",
       "      <td>Cardin</td>\n",
       "      <td>[[CARDIN, MIKULSKI, ANNOUNCE, 7, 3, MILLION, F...</td>\n",
       "      <td>[[cardin, mikulski, announce, million, hagerst...</td>\n",
       "    </tr>\n",
       "    <tr>\n",
       "      <th>01Jun2007Cardin200.txt</th>\n",
       "      <td>...</td>\n",
       "      <td>Cardin</td>\n",
       "      <td>[[CARDIN, MIKULSKI, ANNOUNCE, 4, 6, MILLION, F...</td>\n",
       "      <td>[[cardin, mikulski, announce, million, salisbu...</td>\n",
       "    </tr>\n",
       "    <tr>\n",
       "      <th>01Mar2007Cardin279.txt</th>\n",
       "      <td>...</td>\n",
       "      <td>Cardin</td>\n",
       "      <td>[[SEN, CARDIN, FIGHTS, TO, IMPROVE, SECURITY, ...</td>\n",
       "      <td>[[sen, cardin, fights, improve, security, amer...</td>\n",
       "    </tr>\n",
       "    <tr>\n",
       "      <th>01Mar2007Cardin280.txt</th>\n",
       "      <td>...</td>\n",
       "      <td>Cardin</td>\n",
       "      <td>[[CARDIN, MIKULSKI, ANNOUNCE, 35, 000, FOR, WE...</td>\n",
       "      <td>[[cardin, mikulski, announce, western, marylan...</td>\n",
       "    </tr>\n",
       "    <tr>\n",
       "      <th>01May2007Cardin228.txt</th>\n",
       "      <td>...</td>\n",
       "      <td>Cardin</td>\n",
       "      <td>[[STATEMENT, BY, U, S, SENATOR, BENJAMIN, L, C...</td>\n",
       "      <td>[[statement, u, senator, benjamin, l, cardin, ...</td>\n",
       "    </tr>\n",
       "    <tr>\n",
       "      <th>01May2007Cardin229.txt</th>\n",
       "      <td>...</td>\n",
       "      <td>Cardin</td>\n",
       "      <td>[[CARDIN, TELLS, THE, AG, COMMITTEE, THAT, THE...</td>\n",
       "      <td>[[cardin, tells, ag, committee, farm, bill, co...</td>\n",
       "    </tr>\n",
       "  </tbody>\n",
       "</table>\n",
       "</div>"
      ],
      "text/plain": [
       "                                                                     text  \\\n",
       "01Aug2007Cardin156.txt                                                ...   \n",
       "01Feb2007Cardin297.txt                                                ...   \n",
       "01Feb2007Cardin298.txt                                                ...   \n",
       "01Feb2007Cardin299.txt                                                ...   \n",
       "01Jun2007Cardin199.txt                                                ...   \n",
       "01Jun2007Cardin200.txt                                                ...   \n",
       "01Mar2007Cardin279.txt                                                ...   \n",
       "01Mar2007Cardin280.txt                                                ...   \n",
       "01May2007Cardin228.txt                                                ...   \n",
       "01May2007Cardin229.txt                                                ...   \n",
       "\n",
       "                       category  \\\n",
       "01Aug2007Cardin156.txt   Cardin   \n",
       "01Feb2007Cardin297.txt   Cardin   \n",
       "01Feb2007Cardin298.txt   Cardin   \n",
       "01Feb2007Cardin299.txt   Cardin   \n",
       "01Jun2007Cardin199.txt   Cardin   \n",
       "01Jun2007Cardin200.txt   Cardin   \n",
       "01Mar2007Cardin279.txt   Cardin   \n",
       "01Mar2007Cardin280.txt   Cardin   \n",
       "01May2007Cardin228.txt   Cardin   \n",
       "01May2007Cardin229.txt   Cardin   \n",
       "\n",
       "                                                          tokenized_sents  \\\n",
       "01Aug2007Cardin156.txt  [[CARDIN, MIKULSKI, PRAISES, PASSAGE, OF, STRO...   \n",
       "01Feb2007Cardin297.txt  [[CARDIN, VOTES, TO, INCREASE, MINIMUM, WAGE, ...   \n",
       "01Feb2007Cardin298.txt  [[S, 453, SEN, CARDIN, CO, SPONSORS, BILL, TO,...   \n",
       "01Feb2007Cardin299.txt  [[S, 450, CARDIN, INTRODUCES, BILL, TO, ELIMIN...   \n",
       "01Jun2007Cardin199.txt  [[CARDIN, MIKULSKI, ANNOUNCE, 7, 3, MILLION, F...   \n",
       "01Jun2007Cardin200.txt  [[CARDIN, MIKULSKI, ANNOUNCE, 4, 6, MILLION, F...   \n",
       "01Mar2007Cardin279.txt  [[SEN, CARDIN, FIGHTS, TO, IMPROVE, SECURITY, ...   \n",
       "01Mar2007Cardin280.txt  [[CARDIN, MIKULSKI, ANNOUNCE, 35, 000, FOR, WE...   \n",
       "01May2007Cardin228.txt  [[STATEMENT, BY, U, S, SENATOR, BENJAMIN, L, C...   \n",
       "01May2007Cardin229.txt  [[CARDIN, TELLS, THE, AG, COMMITTEE, THAT, THE...   \n",
       "\n",
       "                                                         normalized_sents  \n",
       "01Aug2007Cardin156.txt  [[cardin, mikulski, praises, passage, strong, ...  \n",
       "01Feb2007Cardin297.txt  [[cardin, votes, increase, minimum, wage, pay,...  \n",
       "01Feb2007Cardin298.txt  [[sen, cardin, co, sponsors, bill, protect, vo...  \n",
       "01Feb2007Cardin299.txt  [[cardin, introduces, bill, eliminate, arbitra...  \n",
       "01Jun2007Cardin199.txt  [[cardin, mikulski, announce, million, hagerst...  \n",
       "01Jun2007Cardin200.txt  [[cardin, mikulski, announce, million, salisbu...  \n",
       "01Mar2007Cardin279.txt  [[sen, cardin, fights, improve, security, amer...  \n",
       "01Mar2007Cardin280.txt  [[cardin, mikulski, announce, western, marylan...  \n",
       "01May2007Cardin228.txt  [[statement, u, senator, benjamin, l, cardin, ...  \n",
       "01May2007Cardin229.txt  [[cardin, tells, ag, committee, farm, bill, co...  "
      ]
     },
     "execution_count": 28,
     "metadata": {},
     "output_type": "execute_result"
    }
   ],
   "source": [
    "cardinDF = lucem_illud.loadTextDirectory('../data/grimmerPressReleases_extra/Cardin')\n",
    "cardinDF['category'] = 'Cardin'\n",
    "\n",
    "cardinDF['tokenized_sents'] = cardinDF['text'].apply(lambda x: \n",
    "                                                               [nltk.word_tokenize(s) for s in nltk.sent_tokenize(x)])\n",
    "cardinDF['normalized_sents'] = cardinDF['tokenized_sents'].apply(lambda x: \n",
    "                                                                           [lucem_illud.normalizeTokens(s, \n",
    "                                                                                           stopwordLst = lucem_illud.stop_words_basic, \n",
    "                                                                                           stemmer = None) \n",
    "                                                                            for s in x])\n",
    "\n",
    "cardinDF[:10]"
   ]
  },
  {
   "cell_type": "markdown",
   "metadata": {},
   "source": [
    "We can now merge Cardin's releases with the rest. This can update all the weights in *w2v* model, so be careful."
   ]
  },
  {
   "cell_type": "code",
   "execution_count": 29,
   "metadata": {},
   "outputs": [],
   "source": [
    "#This is using a newer API so we have to tell it a little bit more for it to work right\n",
    "senReleasesW2V.build_vocab(cardinDF['normalized_sents'].sum(), update=True)\n",
    "senReleasesW2V.train(cardinDF['normalized_sents'].sum(), \n",
    "                     total_examples=senReleasesW2V.corpus_count, \n",
    "                     epochs=senReleasesW2V.iter)\n",
    "senReleasesW2V.save(\"senpressreleasesWORD2Vec_new.mm\")"
   ]
  },
  {
   "cell_type": "markdown",
   "metadata": {},
   "source": [
    "As the model is updated by this, we need to load our old copy to do a comparison."
   ]
  },
  {
   "cell_type": "code",
   "execution_count": 30,
   "metadata": {},
   "outputs": [],
   "source": [
    "senReleasesW2V_old = gensim.models.word2vec.Word2Vec.load('senpressreleasesWORD2Vec.mm')"
   ]
  },
  {
   "cell_type": "code",
   "execution_count": 31,
   "metadata": {},
   "outputs": [
    {
     "name": "stdout",
     "output_type": "stream",
     "text": [
      "A 100 dimesional vector:\n"
     ]
    },
    {
     "data": {
      "text/plain": [
       "array([ 2.5689578 , -1.1457541 ,  1.2025913 , -2.7483582 ,  0.75419635,\n",
       "       -2.6164918 ,  1.4967729 , -0.73965645,  0.4625182 ,  0.5365597 ],\n",
       "      dtype=float32)"
      ]
     },
     "execution_count": 31,
     "metadata": {},
     "output_type": "execute_result"
    }
   ],
   "source": [
    "print(\"A {} dimesional vector:\".format(senReleasesW2V['president'].shape[0]))\n",
    "senReleasesW2V['president'][:10]"
   ]
  },
  {
   "cell_type": "code",
   "execution_count": 32,
   "metadata": {},
   "outputs": [
    {
     "name": "stdout",
     "output_type": "stream",
     "text": [
      "A 100 dimesional vector:\n"
     ]
    },
    {
     "data": {
      "text/plain": [
       "array([ 2.4466183 , -1.3200643 ,  1.1754942 , -2.5440223 ,  0.6602763 ,\n",
       "       -1.9527084 ,  1.0255735 , -0.6697826 ,  0.21679494,  0.29884762],\n",
       "      dtype=float32)"
      ]
     },
     "execution_count": 32,
     "metadata": {},
     "output_type": "execute_result"
    }
   ],
   "source": [
    "print(\"A {} dimesional vector:\".format(senReleasesW2V_old['president'].shape[0]))\n",
    "senReleasesW2V_old['president'][:10]"
   ]
  },
  {
   "cell_type": "code",
   "execution_count": 33,
   "metadata": {},
   "outputs": [
    {
     "data": {
      "text/plain": [
       "array([-0.12233949, -0.1743102 , -0.02709711,  0.20433593, -0.09392005,\n",
       "        0.66378343, -0.4711994 ,  0.06987387, -0.24572325, -0.23771209],\n",
       "      dtype=float32)"
      ]
     },
     "execution_count": 33,
     "metadata": {},
     "output_type": "execute_result"
    }
   ],
   "source": [
    "(senReleasesW2V_old['president'] - senReleasesW2V['president'])[:10]"
   ]
  },
  {
   "cell_type": "markdown",
   "metadata": {},
   "source": [
    "As you can see the vector for 'president' has changed a little bit and the word cloud should also be a bit different too"
   ]
  },
  {
   "cell_type": "code",
   "execution_count": 34,
   "metadata": {},
   "outputs": [],
   "source": [
    "pcaWords = sklearn.decomposition.PCA(n_components = 50).fit(wordsSubMatrix)\n",
    "reducedPCA_data = pcaWords.transform(wordsSubMatrix)\n",
    "#T-SNE is theoretically better, but you should experiment\n",
    "tsneWords = sklearn.manifold.TSNE(n_components = 2, early_exaggeration = 25).fit_transform(reducedPCA_data)"
   ]
  },
  {
   "cell_type": "code",
   "execution_count": 35,
   "metadata": {},
   "outputs": [
    {
     "data": {
      "image/png": "[encoded data removed]",
      "text/plain": [
       "<matplotlib.figure.Figure at 0x2553dfe3080>"
      ]
     },
     "metadata": {},
     "output_type": "display_data"
    }
   ],
   "source": [
    "fig = plt.figure(figsize = (15,10))\n",
    "ax = fig.add_subplot(111)\n",
    "ax.set_frame_on(False)\n",
    "plt.scatter(tsneWords[:, 0], tsneWords[:, 1], alpha = 0)#Making the points invisible \n",
    "for i, word in enumerate(targetWords):\n",
    "    ax.annotate(word, \n",
    "                (tsneWords[:, 0][i],tsneWords[:, 1][i]), \n",
    "                size =  20 * (numWords - i) / numWords, \n",
    "                alpha = .8 * (numWords - i) / numWords + .2)\n",
    "plt.xticks(())\n",
    "plt.yticks(())\n",
    "plt.show()"
   ]
  },
  {
   "cell_type": "markdown",
   "metadata": {},
   "source": [
    "Another thing to consider in training is how we know that our parameters for the model are correct. We can do this by looking at the training loss of the model. Let's tart by training a new model, but this time we will expose most of the options and train it one epoch at a time. Look [here](https://radimrehurek.com/gensim/models/word2vec.html#gensim.models.word2vec.Word2Vec) for more detail: "
   ]
  },
  {
   "cell_type": "code",
   "execution_count": 36,
   "metadata": {},
   "outputs": [
    {
     "data": {
      "text/plain": [
       "1996287.0"
      ]
     },
     "execution_count": 36,
     "metadata": {},
     "output_type": "execute_result"
    }
   ],
   "source": [
    "senReleasesW2V_loss = gensim.models.word2vec.Word2Vec(size = 100, #dimensions\n",
    "                                                      alpha=0.025,\n",
    "                                                      window=5,\n",
    "                                                      min_count=5,\n",
    "                                                      hs=0,  #hierarchical softmax toggle\n",
    "                                                      compute_loss = True,\n",
    "                                                     )\n",
    "senReleasesW2V_loss.build_vocab(senReleasesDF['normalized_sents'].sum())\n",
    "senReleasesW2V_loss.train(senReleasesDF['normalized_sents'].sum(), \n",
    "                     total_examples=senReleasesW2V.corpus_count, \n",
    "                     epochs=1, #This the running_training_loss is a total so we have to do 1 epoch at a time\n",
    "                    )\n",
    "#Using a list so we can capture every epoch\n",
    "losses = [senReleasesW2V_loss.running_training_loss]\n",
    "losses[0]"
   ]
  },
  {
   "cell_type": "markdown",
   "metadata": {},
   "source": [
    "Now we have the training loss and can optimize training to minimize it."
   ]
  },
  {
   "cell_type": "code",
   "execution_count": 37,
   "metadata": {},
   "outputs": [
    {
     "name": "stdout",
     "output_type": "stream",
     "text": [
      "Done epoch 20\r"
     ]
    }
   ],
   "source": [
    "for i in range(19):\n",
    "    senReleasesW2V_loss.train(senReleasesDF['normalized_sents'].sum(), \n",
    "                     total_examples=senReleasesW2V.corpus_count, \n",
    "                     epochs=1,\n",
    "                             )\n",
    "    losses.append(senReleasesW2V_loss.running_training_loss)\n",
    "    print(\"Done epoch {}\".format(i + 2), end = '\\r')"
   ]
  },
  {
   "cell_type": "markdown",
   "metadata": {},
   "source": [
    "Lets plot the loss vs epoch"
   ]
  },
  {
   "cell_type": "code",
   "execution_count": 38,
   "metadata": {},
   "outputs": [
    {
     "data": {
      "image/png": "[encoded data removed]",
      "text/plain": [
       "<matplotlib.figure.Figure at 0x2554455d438>"
      ]
     },
     "metadata": {},
     "output_type": "display_data"
    }
   ],
   "source": [
    "lossesDF = pandas.DataFrame({'loss' : losses, 'epoch' : range(len(losses))})\n",
    "lossesDF.plot(y = 'loss', x = 'epoch', logy=False, figsize=(15, 7))\n",
    "plt.show()"
   ]
  },
  {
   "cell_type": "markdown",
   "metadata": {},
   "source": [
    "You should see that the loss is almost monotonic, but that the rate decreases as epoch increases. Since we are testing on our training data monotonicity is a common result and we must try to avoid over fitting. A simple way to do this is to stop training when there is significant change in the rate of decrease. In this run, that looks to be approximately 8 or 9. If we were to do another analysis, we might use an `iter=9` instead of the default 5."
   ]
  },
  {
   "cell_type": "markdown",
   "metadata": {},
   "source": [
    "Even more culturally interesting is how many dimensions are required to achieve an optimal embedding. The use of words in complex ways and contradictory contexts will require more dimensions to represent them with integrity. For example, if one word, $w_a$, is \"nearby\" $w_b$, but $w_b$ is not near the other words beside $w_a$, then a new dimension will be required for the two words to be uniquely together. "
   ]
  },
  {
   "cell_type": "code",
   "execution_count": 39,
   "metadata": {},
   "outputs": [],
   "source": [
    "losses_dims=[]\n",
    "\n",
    "for d in [50,100,150,200,250,300,350,400,450,500, 550, 600, 650, 700, 750]:\n",
    "    senReleasesW2V_loss_dims = gensim.models.word2vec.Word2Vec(size = d, #dimensions\n",
    "                                                      alpha=0.025,\n",
    "                                                      window=5,\n",
    "                                                      min_count=5,\n",
    "                                                      hs=0,  #hierarchical softmax toggle\n",
    "                                                      compute_loss = True,\n",
    "                                                     )\n",
    "    senReleasesW2V_loss_dims.build_vocab(senReleasesDF['normalized_sents'].sum())\n",
    "    senReleasesW2V_loss_dims.train(senReleasesDF['normalized_sents'].sum(), \n",
    "                     total_examples=senReleasesW2V.corpus_count, \n",
    "                     epochs=7, #This the running_training_loss is a total so we have to do 1 epoch at a time\n",
    "                    )\n",
    "    senReleasesW2V_loss_dims.train(senReleasesDF['normalized_sents'].sum(), \n",
    "                     total_examples=senReleasesW2V.corpus_count, \n",
    "                     epochs=1, #This the running_training_loss is a total so we have to do 1 epoch at a time\n",
    "                    )\n",
    "    \n",
    "    losses_dims.append(senReleasesW2V_loss_dims.running_training_loss/(10+d*10))"
   ]
  },
  {
   "cell_type": "code",
   "execution_count": 40,
   "metadata": {},
   "outputs": [
    {
     "data": {
      "image/png": "[encoded data removed]",
      "text/plain": [
       "<matplotlib.figure.Figure at 0x2554455d358>"
      ]
     },
     "metadata": {},
     "output_type": "display_data"
    }
   ],
   "source": [
    "losses_dimsDF = pandas.DataFrame({'loss' : losses_dims, 'dimensions' : [50,100,150,200,250,300,350,400,450,500,550,600,650,700,750]})\n",
    "losses_dimsDF.plot(y = 'loss', x = 'dimensions', logy=False, figsize=(15, 7))\n",
    "plt.show()"
   ]
  },
  {
   "cell_type": "markdown",
   "metadata": {},
   "source": [
    "This is a work in progress for Gensim, but its clear that most of the word distance variation is captured by 300 dimensions."
   ]
  },
  {
   "cell_type": "markdown",
   "metadata": {},
   "source": [
    "# Chinese examples"
   ]
  },
  {
   "cell_type": "code",
   "execution_count": 41,
   "metadata": {},
   "outputs": [],
   "source": [
    "model=gensim.models.Word2Vec.load('../data/1992embeddings_hs_new3.sg')"
   ]
  },
  {
   "cell_type": "markdown",
   "metadata": {},
   "source": [
    "## analogy\n",
    "\n",
    "King+man-Queen? A few examples based on a corpus of Chinese news. \n",
    "\n",
    "First, location analogy: **province -> capital**"
   ]
  },
  {
   "cell_type": "code",
   "execution_count": 42,
   "metadata": {},
   "outputs": [
    {
     "name": "stdout",
     "output_type": "stream",
     "text": [
      "西安 0.36609965562820435\n",
      "Xi'an\n"
     ]
    }
   ],
   "source": [
    "mm = model.most_similar(positive=[u'长沙',u'陕西'], negative=[u'湖南']) # Changsha + Shaanxi - Hunan\n",
    "for m in mm:\n",
    "    print(m[0],m[1])\n",
    "    print(\"Xi'an\")\n",
    "    break"
   ]
  },
  {
   "cell_type": "code",
   "execution_count": 43,
   "metadata": {},
   "outputs": [
    {
     "name": "stdout",
     "output_type": "stream",
     "text": [
      "武汉 0.3676999807357788\n",
      "Wuhan\n"
     ]
    }
   ],
   "source": [
    "mm = model.most_similar(positive=[u'广州',u'湖北'], negative=[u'广东']) # Guangzhou + Hubei - Guangdong\n",
    "for m in mm:\n",
    "    print(m[0],m[1])\n",
    "    print(\"Wuhan\")\n",
    "    break"
   ]
  },
  {
   "cell_type": "markdown",
   "metadata": {},
   "source": [
    "Second, location analogy: **country -> capital**"
   ]
  },
  {
   "cell_type": "code",
   "execution_count": 44,
   "metadata": {},
   "outputs": [
    {
     "name": "stdout",
     "output_type": "stream",
     "text": [
      "华盛顿 0.508813738822937\n",
      "(Washington DC)\n"
     ]
    }
   ],
   "source": [
    "mm = model.most_similar(positive=[u'东京',u'美国'], negative=[u'日本']) # Tokyo + US - Japan\n",
    "for m in mm:\n",
    "    print(m[0],m[1])\n",
    "    print(\"(Washington DC)\")\n",
    "    break"
   ]
  },
  {
   "cell_type": "markdown",
   "metadata": {},
   "source": [
    "## similar words"
   ]
  },
  {
   "cell_type": "code",
   "execution_count": 45,
   "metadata": {},
   "outputs": [
    {
     "name": "stdout",
     "output_type": "stream",
     "text": [
      "the most similar words to 社会主义 is: \n",
      "特色\n",
      "市场经济\n",
      "理论\n",
      "建设\n",
      "改革开放\n",
      "马克思主义\n",
      "党\n",
      "经济体制\n",
      "基本路线\n",
      "现代化\n",
      "\n"
     ]
    }
   ],
   "source": [
    "word = u'社会主义'  #socialism\n",
    "ss = model.similar_by_word(word,topn=10)\n",
    "print(\"the most similar words to \" + word + \" is: \")\n",
    "for s in ss:\n",
    "    print(s[0])\n",
    "print(\"\")"
   ]
  },
  {
   "cell_type": "code",
   "execution_count": 46,
   "metadata": {},
   "outputs": [
    {
     "name": "stdout",
     "output_type": "stream",
     "text": [
      "the most similar words to 玉米 is: \n",
      "小麦\n",
      "水稻\n",
      "作物\n",
      "棉花\n",
      "新品种\n",
      "杂交\n",
      "大豆\n",
      "增产\n",
      "栽培\n",
      "农作物\n",
      "\n"
     ]
    }
   ],
   "source": [
    "word = u'玉米'  # corn\n",
    "ss = model.similar_by_word(word,topn=10)\n",
    "print(\"the most similar words to \" + word + \" is: \")\n",
    "for s in ss:\n",
    "    print(s[0])\n",
    "print(\"\")"
   ]
  },
  {
   "cell_type": "markdown",
   "metadata": {},
   "source": [
    "## <span style=\"color:red\">*Exercise 1*</span>\n",
    "\n",
    "<span style=\"color:red\">Construct cells immediately below this that build a word2vec model with your corpus. Interrogate word relationships in the resulting space, including estimating 90% confidence intervals for specific word cosine distances of interest. Plot a subset of your words. What do these word relationships reveal about the *social* and *cultural game* underlying your corpus? What was surprising--what violated your prior understanding of the corpus? What was expected--what confirmed your knowledge about this domain?"
   ]
  },
  {
   "cell_type": "code",
   "execution_count": 3,
   "metadata": {},
   "outputs": [
    {
     "data": {
      "text/html": [
       "<div>\n",
       "<style scoped>\n",
       "    .dataframe tbody tr th:only-of-type {\n",
       "        vertical-align: middle;\n",
       "    }\n",
       "\n",
       "    .dataframe tbody tr th {\n",
       "        vertical-align: top;\n",
       "    }\n",
       "\n",
       "    .dataframe thead th {\n",
       "        text-align: right;\n",
       "    }\n",
       "</style>\n",
       "<table border=\"1\" class=\"dataframe\">\n",
       "  <thead>\n",
       "    <tr style=\"text-align: right;\">\n",
       "      <th></th>\n",
       "      <th>company</th>\n",
       "      <th>text</th>\n",
       "      <th>year</th>\n",
       "    </tr>\n",
       "  </thead>\n",
       "  <tbody>\n",
       "    <tr>\n",
       "      <th>0</th>\n",
       "      <td>3M Letter</td>\n",
       "      <td>dear shareholder:\\n\\nthanks to the hard work o...</td>\n",
       "      <td>2000</td>\n",
       "    </tr>\n",
       "    <tr>\n",
       "      <th>1</th>\n",
       "      <td>Alcoa Letter</td>\n",
       "      <td>luluâ\\nmumÂ» nl am.â\\n\\n \\n\\n \\n\\n1â0 ai...</td>\n",
       "      <td>2000</td>\n",
       "    </tr>\n",
       "    <tr>\n",
       "      <th>2</th>\n",
       "      <td>American Express Letter</td>\n",
       "      <td>cardmembers, a reflection of our successful ef...</td>\n",
       "      <td>2000</td>\n",
       "    </tr>\n",
       "    <tr>\n",
       "      <th>3</th>\n",
       "      <td>AT&amp;T Letter</td>\n",
       "      <td>the transformation of at&amp;t\\n\\nthree years ago ...</td>\n",
       "      <td>2000</td>\n",
       "    </tr>\n",
       "    <tr>\n",
       "      <th>4</th>\n",
       "      <td>Boeing Letter</td>\n",
       "      <td>here is our plan for growing the boeing compan...</td>\n",
       "      <td>2000</td>\n",
       "    </tr>\n",
       "  </tbody>\n",
       "</table>\n",
       "</div>"
      ],
      "text/plain": [
       "                    company  \\\n",
       "0                3M Letter    \n",
       "1             Alcoa Letter    \n",
       "2  American Express Letter    \n",
       "3              AT&T Letter    \n",
       "4            Boeing Letter    \n",
       "\n",
       "                                                text  year  \n",
       "0  dear shareholder:\\n\\nthanks to the hard work o...  2000  \n",
       "1  luluâ\\nmumÂ» nl am.â\\n\\n \\n\\n \\n\\n1â0 ai...  2000  \n",
       "2  cardmembers, a reflection of our successful ef...  2000  \n",
       "3  the transformation of at&t\\n\\nthree years ago ...  2000  \n",
       "4  here is our plan for growing the boeing compan...  2000  "
      ]
     },
     "execution_count": 3,
     "metadata": {},
     "output_type": "execute_result"
    }
   ],
   "source": [
    "#import dataset of letters to shareholders\n",
    "df = pandas.read_pickle('C:\\\\Users\\\\Andrew\\\\content-analysis-2018\\\\content-analysis-2018\\\\2-Corpus-Linguistics\\\\pandasDF.pkl')\n",
    "df.head()"
   ]
  },
  {
   "cell_type": "code",
   "execution_count": 4,
   "metadata": {
    "scrolled": true
   },
   "outputs": [
    {
     "data": {
      "text/html": [
       "<div>\n",
       "<style scoped>\n",
       "    .dataframe tbody tr th:only-of-type {\n",
       "        vertical-align: middle;\n",
       "    }\n",
       "\n",
       "    .dataframe tbody tr th {\n",
       "        vertical-align: top;\n",
       "    }\n",
       "\n",
       "    .dataframe thead th {\n",
       "        text-align: right;\n",
       "    }\n",
       "</style>\n",
       "<table border=\"1\" class=\"dataframe\">\n",
       "  <thead>\n",
       "    <tr style=\"text-align: right;\">\n",
       "      <th></th>\n",
       "      <th>company</th>\n",
       "      <th>text</th>\n",
       "      <th>year</th>\n",
       "      <th>tokenized_sents</th>\n",
       "      <th>normalized_sents</th>\n",
       "    </tr>\n",
       "  </thead>\n",
       "  <tbody>\n",
       "    <tr>\n",
       "      <th>0</th>\n",
       "      <td>3M Letter</td>\n",
       "      <td>dear shareholder:\\n\\nthanks to the hard work o...</td>\n",
       "      <td>2000</td>\n",
       "      <td>[[dear, shareholder, :, thanks, to, the, hard,...</td>\n",
       "      <td>[[dear, shareholder, thanks, hard, work, oftho...</td>\n",
       "    </tr>\n",
       "    <tr>\n",
       "      <th>1</th>\n",
       "      <td>Alcoa Letter</td>\n",
       "      <td>luluâ\\nmumÂ» nl am.â\\n\\n \\n\\n \\n\\n1â0 ai...</td>\n",
       "      <td>2000</td>\n",
       "      <td>[[luluâ, mumÂ, », nl, am.â, 1â0, aicoa, ...</td>\n",
       "      <td>[[mumâ, nl, aicoa, sharehoiders, yea], [tnlury...</td>\n",
       "    </tr>\n",
       "    <tr>\n",
       "      <th>2</th>\n",
       "      <td>American Express Letter</td>\n",
       "      <td>cardmembers, a reflection of our successful ef...</td>\n",
       "      <td>2000</td>\n",
       "      <td>[[cardmembers, ,, a, reflection, of, our, succ...</td>\n",
       "      <td>[[cardmembers, reflection, successful, efforts...</td>\n",
       "    </tr>\n",
       "    <tr>\n",
       "      <th>3</th>\n",
       "      <td>AT&amp;T Letter</td>\n",
       "      <td>the transformation of at&amp;t\\n\\nthree years ago ...</td>\n",
       "      <td>2000</td>\n",
       "      <td>[[the, transformation, of, at, &amp;, t, three, ye...</td>\n",
       "      <td>[[transformation, three, years, ago, clear, te...</td>\n",
       "    </tr>\n",
       "    <tr>\n",
       "      <th>4</th>\n",
       "      <td>Boeing Letter</td>\n",
       "      <td>here is our plan for growing the boeing compan...</td>\n",
       "      <td>2000</td>\n",
       "      <td>[[here, is, our, plan, for, growing, the, boei...</td>\n",
       "      <td>[[plan, growing, boeing, covers, three, period...</td>\n",
       "    </tr>\n",
       "  </tbody>\n",
       "</table>\n",
       "</div>"
      ],
      "text/plain": [
       "                    company  \\\n",
       "0                3M Letter    \n",
       "1             Alcoa Letter    \n",
       "2  American Express Letter    \n",
       "3              AT&T Letter    \n",
       "4            Boeing Letter    \n",
       "\n",
       "                                                text  year  \\\n",
       "0  dear shareholder:\\n\\nthanks to the hard work o...  2000   \n",
       "1  luluâ\\nmumÂ» nl am.â\\n\\n \\n\\n \\n\\n1â0 ai...  2000   \n",
       "2  cardmembers, a reflection of our successful ef...  2000   \n",
       "3  the transformation of at&t\\n\\nthree years ago ...  2000   \n",
       "4  here is our plan for growing the boeing compan...  2000   \n",
       "\n",
       "                                     tokenized_sents  \\\n",
       "0  [[dear, shareholder, :, thanks, to, the, hard,...   \n",
       "1  [[luluâ, mumÂ, », nl, am.â, 1â0, aicoa, ...   \n",
       "2  [[cardmembers, ,, a, reflection, of, our, succ...   \n",
       "3  [[the, transformation, of, at, &, t, three, ye...   \n",
       "4  [[here, is, our, plan, for, growing, the, boei...   \n",
       "\n",
       "                                    normalized_sents  \n",
       "0  [[dear, shareholder, thanks, hard, work, oftho...  \n",
       "1  [[mumâ, nl, aicoa, sharehoiders, yea], [tnlury...  \n",
       "2  [[cardmembers, reflection, successful, efforts...  \n",
       "3  [[transformation, three, years, ago, clear, te...  \n",
       "4  [[plan, growing, boeing, covers, three, period...  "
      ]
     },
     "execution_count": 4,
     "metadata": {},
     "output_type": "execute_result"
    }
   ],
   "source": [
    "#remove stop words while preserving sentence structure\n",
    "df['tokenized_sents'] = df['text'].apply(lambda x: \n",
    "                                                               [nltk.word_tokenize(s) for s in nltk.sent_tokenize(x)])\n",
    "df['normalized_sents'] = df['tokenized_sents'].apply(lambda x: \n",
    "                                                                           [lucem_illud.normalizeTokens(s, \n",
    "                                                                                           stopwordLst = lucem_illud.stop_words_basic, \n",
    "                                                                                           stemmer = None) \n",
    "                                                                            for s in x])\n",
    "\n",
    "df[:5]"
   ]
  },
  {
   "cell_type": "code",
   "execution_count": 5,
   "metadata": {},
   "outputs": [],
   "source": [
    "#import data into trainer\n",
    "lettersW2V = gensim.models.word2vec.Word2Vec(df['normalized_sents'].sum())"
   ]
  },
  {
   "cell_type": "code",
   "execution_count": 9,
   "metadata": {},
   "outputs": [
    {
     "data": {
      "text/plain": [
       "[('skills', 0.9901850819587708),\n",
       " ('healthcare', 0.9885253310203552),\n",
       " ('teams', 0.9882533550262451),\n",
       " ('resources', 0.9880890846252441),\n",
       " ('expertise', 0.987407922744751),\n",
       " ('solve', 0.9848062992095947),\n",
       " ('tools', 0.9819425940513611),\n",
       " ('settings', 0.9815236330032349),\n",
       " ('deep', 0.9806320667266846),\n",
       " ('address', 0.9800875186920166)]"
      ]
     },
     "execution_count": 9,
     "metadata": {},
     "output_type": "execute_result"
    }
   ],
   "source": [
    "lettersW2V.most_similar('education')"
   ]
  },
  {
   "cell_type": "code",
   "execution_count": 10,
   "metadata": {
    "scrolled": true
   },
   "outputs": [
    {
     "data": {
      "text/plain": [
       "[('dividends', 0.9825845956802368),\n",
       " ('quarterly', 0.9823449850082397),\n",
       " ('returned', 0.9792618751525879),\n",
       " ('buybacks', 0.9778077602386475),\n",
       " ('month', 0.9743553400039673),\n",
       " ('ended', 0.9738460183143616),\n",
       " ('stock', 0.9729856252670288),\n",
       " ('quarter', 0.9718713760375977),\n",
       " ('eps', 0.9711862802505493),\n",
       " ('record', 0.9708837270736694)]"
      ]
     },
     "execution_count": 10,
     "metadata": {},
     "output_type": "execute_result"
    }
   ],
   "source": [
    "lettersW2V.most_similar('dividend')"
   ]
  },
  {
   "cell_type": "code",
   "execution_count": 11,
   "metadata": {
    "scrolled": true
   },
   "outputs": [
    {
     "data": {
      "text/plain": [
       "[('service', 0.9617198705673218),\n",
       " ('quality', 0.9382018446922302),\n",
       " ('providing', 0.9351354837417603),\n",
       " ('relationships', 0.9316508769989014),\n",
       " ('improve', 0.9278054237365723),\n",
       " ('range', 0.9271877408027649),\n",
       " ('platforms', 0.9217761754989624),\n",
       " ('networks', 0.9209244847297668),\n",
       " ('analytics', 0.9207053780555725),\n",
       " ('platform', 0.9199063777923584)]"
      ]
     },
     "execution_count": 11,
     "metadata": {},
     "output_type": "execute_result"
    }
   ],
   "source": [
    "lettersW2V.most_similar('customer')"
   ]
  },
  {
   "cell_type": "code",
   "execution_count": 14,
   "metadata": {
    "scrolled": false
   },
   "outputs": [
    {
     "data": {
      "text/plain": [
       "[('communities', 0.9582213759422302),\n",
       " ('needs', 0.9523147344589233),\n",
       " ('ways', 0.9448292255401611),\n",
       " ('lives', 0.9360747337341309),\n",
       " ('make', 0.9344277381896973),\n",
       " ('need', 0.9329724311828613),\n",
       " ('helping', 0.9325476288795471),\n",
       " ('serve', 0.9287484884262085),\n",
       " ('live', 0.9277434349060059),\n",
       " ('better', 0.9264242649078369)]"
      ]
     },
     "execution_count": 14,
     "metadata": {},
     "output_type": "execute_result"
    }
   ],
   "source": [
    "lettersW2V.most_similar(positive=['employee', 'help'], negative = ['dividend'])"
   ]
  },
  {
   "cell_type": "code",
   "execution_count": 15,
   "metadata": {
    "scrolled": true
   },
   "outputs": [
    {
     "data": {
      "text/plain": [
       "[('consecutive', 0.9649271965026855),\n",
       " ('ended', 0.9618484973907471),\n",
       " ('quarter', 0.9616119861602783),\n",
       " ('quarterly', 0.955471932888031),\n",
       " ('dividends', 0.9548418521881104),\n",
       " ('record', 0.9546922445297241),\n",
       " ('month', 0.9486629962921143),\n",
       " ('average', 0.9477473497390747),\n",
       " ('rate', 0.9475027322769165),\n",
       " ('stock', 0.9472248554229736)]"
      ]
     },
     "execution_count": 15,
     "metadata": {},
     "output_type": "execute_result"
    }
   ],
   "source": [
    "lettersW2V.most_similar(positive=['employee', 'dividend'], negative = ['help'])"
   ]
  },
  {
   "cell_type": "code",
   "execution_count": 18,
   "metadata": {},
   "outputs": [
    {
     "data": {
      "text/plain": [
       "[0.5236698,\n",
       " 0.52545637,\n",
       " 0.5498841,\n",
       " 0.55416644,\n",
       " 0.5590736,\n",
       " 0.5632529,\n",
       " 0.56932473,\n",
       " 0.5873939,\n",
       " 0.59294695,\n",
       " 0.61418104,\n",
       " 0.6481621,\n",
       " 0.65326595,\n",
       " 0.66173524,\n",
       " 0.66808754,\n",
       " 0.68314916,\n",
       " 0.6860367,\n",
       " 0.7204753,\n",
       " 0.72780865,\n",
       " 0.73800844,\n",
       " 0.7442981]"
      ]
     },
     "execution_count": 18,
     "metadata": {},
     "output_type": "execute_result"
    }
   ],
   "source": [
    "#bootstrap for reliability of cosine distances\n",
    "estimatesB=[]\n",
    "for x in range(20):\n",
    "    lettersW2VB = gensim.models.word2vec.Word2Vec(df['normalized_sents'].sample(frac=1.0, replace=True).sum())\n",
    "    try:\n",
    "        estimatesB.append(cos_difference(lettersW2VB, 'employee', 'help')[0,0])\n",
    "    except KeyError:\n",
    "        #Missing one of the words from the vocab\n",
    "        pass\n",
    "                                                      \n",
    "estimatesB.sort()         \n",
    "estimatesB"
   ]
  },
  {
   "cell_type": "code",
   "execution_count": 19,
   "metadata": {
    "scrolled": true
   },
   "outputs": [
    {
     "name": "stdout",
     "output_type": "stream",
     "text": [
      "The 90% confidence interval for the cosine distance between employee and help is:\n",
      " 0.52545637 0.73800844\n"
     ]
    }
   ],
   "source": [
    "print(\"The 90% confidence interval for the cosine distance between employee and help is:\\n\",estimatesB[1], estimatesB[-2])"
   ]
  },
  {
   "cell_type": "code",
   "execution_count": 20,
   "metadata": {},
   "outputs": [],
   "source": [
    "#select top words for visualization\n",
    "numWords = 150\n",
    "targetWords = lettersW2V.wv.index2word[:numWords]"
   ]
  },
  {
   "cell_type": "code",
   "execution_count": 21,
   "metadata": {},
   "outputs": [
    {
     "data": {
      "text/plain": [
       "array([[ 0.6449964 , -0.02453466, -0.17636368, ..., -0.45257673,\n",
       "        -0.1420689 ,  0.4848732 ],\n",
       "       [ 0.7188651 ,  0.02581055, -0.25251493, ..., -0.49984044,\n",
       "        -0.3005475 ,  0.37460336],\n",
       "       [-0.30327946, -0.07189846, -0.76698625, ..., -0.19604781,\n",
       "        -0.52999115,  0.0460862 ],\n",
       "       ...,\n",
       "       [ 0.5020748 ,  0.66736364, -0.58964354, ..., -0.460099  ,\n",
       "         0.08303113,  0.02195131],\n",
       "       [ 1.0293041 , -0.6331205 , -0.6955036 , ...,  0.20746775,\n",
       "         0.77152115, -0.36143595],\n",
       "       [ 0.96067786, -0.49264416, -0.8301885 , ...,  0.22022071,\n",
       "         0.55640715, -0.59562   ]], dtype=float32)"
      ]
     },
     "execution_count": 21,
     "metadata": {},
     "output_type": "execute_result"
    }
   ],
   "source": [
    "#extract their vectors and create smaller matrix (preserving distances)\n",
    "wordsSubMatrix = []\n",
    "for word in targetWords:\n",
    "    wordsSubMatrix.append(lettersW2V[word])\n",
    "wordsSubMatrix = np.array(wordsSubMatrix)\n",
    "wordsSubMatrix"
   ]
  },
  {
   "cell_type": "code",
   "execution_count": 22,
   "metadata": {},
   "outputs": [],
   "source": [
    "#reduce dimensions and create projection\n",
    "pcaWords = sklearn.decomposition.PCA(n_components = 50).fit(wordsSubMatrix)\n",
    "reducedPCA_data = pcaWords.transform(wordsSubMatrix)\n",
    "#T-SNE is theoretically better, but you should experiment\n",
    "tsneWords = sklearn.manifold.TSNE(n_components = 2, early_exaggeration = 25).fit_transform(reducedPCA_data)"
   ]
  },
  {
   "cell_type": "code",
   "execution_count": 23,
   "metadata": {},
   "outputs": [
    {
     "data": {
      "image/png": "[encoded data removed]",
      "text/plain": [
       "<matplotlib.figure.Figure at 0x25c53df04e0>"
      ]
     },
     "metadata": {},
     "output_type": "display_data"
    }
   ],
   "source": [
    "#plot words\n",
    "fig = plt.figure(figsize = (15,10))\n",
    "ax = fig.add_subplot(111)\n",
    "ax.set_frame_on(False)\n",
    "plt.scatter(tsneWords[:, 0], tsneWords[:, 1], alpha = 0)#Making the points invisible \n",
    "for i, word in enumerate(targetWords):\n",
    "    ax.annotate(word, \n",
    "                (tsneWords[:, 0][i],tsneWords[:, 1][i]), \n",
    "                size =  20 * (numWords - i) / numWords, \n",
    "                alpha = .8 * (numWords - i) / numWords + .2)\n",
    "plt.xticks(())\n",
    "plt.yticks(())\n",
    "plt.show()"
   ]
  },
  {
   "cell_type": "markdown",
   "metadata": {},
   "source": [
    "I've been reading a lot of these letters and knew that 'financial issues,' 'customers' and 'markets' are three significant topics. However, I've been itnerested in getting at some type of 'social' issue they talk about. Unfortunately, it really doesn't appear in this plotting (except for possibly the continue/future/communities grouping in the upper left. Note: this was considerably closer to customers than I had expected."
   ]
  },
  {
   "cell_type": "markdown",
   "metadata": {},
   "source": [
    "# Doc2Vec"
   ]
  },
  {
   "cell_type": "markdown",
   "metadata": {
    "collapsed": true
   },
   "source": [
    "Instead of just looking at just how words embed within in the space, we can look at how the different documents relate to each other within the space. First lets load our data--abstracts of most U.S. physics papers from the 1950s."
   ]
  },
  {
   "cell_type": "code",
   "execution_count": 47,
   "metadata": {},
   "outputs": [
    {
     "data": {
      "text/html": [
       "<div>\n",
       "<style scoped>\n",
       "    .dataframe tbody tr th:only-of-type {\n",
       "        vertical-align: middle;\n",
       "    }\n",
       "\n",
       "    .dataframe tbody tr th {\n",
       "        vertical-align: top;\n",
       "    }\n",
       "\n",
       "    .dataframe thead th {\n",
       "        text-align: right;\n",
       "    }\n",
       "</style>\n",
       "<table border=\"1\" class=\"dataframe\">\n",
       "  <thead>\n",
       "    <tr style=\"text-align: right;\">\n",
       "      <th></th>\n",
       "      <th>copyrightYear</th>\n",
       "      <th>doi</th>\n",
       "      <th>abstract</th>\n",
       "    </tr>\n",
       "  </thead>\n",
       "  <tbody>\n",
       "    <tr>\n",
       "      <th>0</th>\n",
       "      <td>1950</td>\n",
       "      <td>10.1103/RevModPhys.22.221</td>\n",
       "      <td>A summarizing account is given of the research...</td>\n",
       "    </tr>\n",
       "    <tr>\n",
       "      <th>1</th>\n",
       "      <td>1951</td>\n",
       "      <td>10.1103/RevModPhys.23.147</td>\n",
       "      <td>New tables of coulomb functions are presented ...</td>\n",
       "    </tr>\n",
       "    <tr>\n",
       "      <th>2</th>\n",
       "      <td>1951</td>\n",
       "      <td>10.1103/RevModPhys.23.185</td>\n",
       "      <td>Ionization by electron impact in diatomic gase...</td>\n",
       "    </tr>\n",
       "    <tr>\n",
       "      <th>3</th>\n",
       "      <td>1951</td>\n",
       "      <td>10.1103/RevModPhys.23.203</td>\n",
       "      <td>It is shown that the conductivity in the ohmic...</td>\n",
       "    </tr>\n",
       "    <tr>\n",
       "      <th>4</th>\n",
       "      <td>1951</td>\n",
       "      <td>10.1103/RevModPhys.23.21</td>\n",
       "      <td>The factorization method is an operational pro...</td>\n",
       "    </tr>\n",
       "    <tr>\n",
       "      <th>5</th>\n",
       "      <td>1951</td>\n",
       "      <td>10.1103/RevModPhys.23.311</td>\n",
       "      <td>A brief account is given of Dyson's proof of t...</td>\n",
       "    </tr>\n",
       "    <tr>\n",
       "      <th>6</th>\n",
       "      <td>1951</td>\n",
       "      <td>10.1103/RevModPhys.23.315</td>\n",
       "      <td>A systematics is given of all transitions for ...</td>\n",
       "    </tr>\n",
       "    <tr>\n",
       "      <th>7</th>\n",
       "      <td>1951</td>\n",
       "      <td>10.1103/RevModPhys.23.322</td>\n",
       "      <td>A systematics of the -transitions of even A nu...</td>\n",
       "    </tr>\n",
       "    <tr>\n",
       "      <th>8</th>\n",
       "      <td>1951</td>\n",
       "      <td>10.1103/RevModPhys.23.328</td>\n",
       "      <td>The available experiments on the absorption sp...</td>\n",
       "    </tr>\n",
       "    <tr>\n",
       "      <th>9</th>\n",
       "      <td>1952</td>\n",
       "      <td>10.1103/RevModPhys.24.108</td>\n",
       "      <td>The classical theory of the dynamics of viscou...</td>\n",
       "    </tr>\n",
       "  </tbody>\n",
       "</table>\n",
       "</div>"
      ],
      "text/plain": [
       "   copyrightYear                        doi  \\\n",
       "0           1950  10.1103/RevModPhys.22.221   \n",
       "1           1951  10.1103/RevModPhys.23.147   \n",
       "2           1951  10.1103/RevModPhys.23.185   \n",
       "3           1951  10.1103/RevModPhys.23.203   \n",
       "4           1951   10.1103/RevModPhys.23.21   \n",
       "5           1951  10.1103/RevModPhys.23.311   \n",
       "6           1951  10.1103/RevModPhys.23.315   \n",
       "7           1951  10.1103/RevModPhys.23.322   \n",
       "8           1951  10.1103/RevModPhys.23.328   \n",
       "9           1952  10.1103/RevModPhys.24.108   \n",
       "\n",
       "                                            abstract  \n",
       "0  A summarizing account is given of the research...  \n",
       "1  New tables of coulomb functions are presented ...  \n",
       "2  Ionization by electron impact in diatomic gase...  \n",
       "3  It is shown that the conductivity in the ohmic...  \n",
       "4  The factorization method is an operational pro...  \n",
       "5  A brief account is given of Dyson's proof of t...  \n",
       "6  A systematics is given of all transitions for ...  \n",
       "7  A systematics of the -transitions of even A nu...  \n",
       "8  The available experiments on the absorption sp...  \n",
       "9  The classical theory of the dynamics of viscou...  "
      ]
     },
     "execution_count": 47,
     "metadata": {},
     "output_type": "execute_result"
    }
   ],
   "source": [
    "apsDF = pandas.read_csv('../data/APSabstracts1950s.csv', index_col = 0)\n",
    "apsDF[:10]"
   ]
  },
  {
   "cell_type": "markdown",
   "metadata": {},
   "source": [
    "We will load these as documents into Word2Vec, but first we need to normalize and pick some tags"
   ]
  },
  {
   "cell_type": "code",
   "execution_count": 48,
   "metadata": {},
   "outputs": [],
   "source": [
    "keywords = ['photomagnetoelectric', 'quantum', 'boltzmann', 'proton', 'positron', 'feynman', 'classical', 'relativity']"
   ]
  },
  {
   "cell_type": "code",
   "execution_count": 49,
   "metadata": {},
   "outputs": [],
   "source": [
    "apsDF['tokenized_words'] = apsDF['abstract'].apply(lambda x: nltk.word_tokenize(x))\n",
    "apsDF['normalized_words'] = apsDF['tokenized_words'].apply(lambda x: lucem_illud.normalizeTokens(x, stopwordLst = lucem_illud.stop_words_basic, stemmer = None))"
   ]
  },
  {
   "cell_type": "code",
   "execution_count": 50,
   "metadata": {},
   "outputs": [],
   "source": [
    "taggedDocs = []\n",
    "for index, row in apsDF.iterrows():\n",
    "    #Just doing a simple keyword assignment\n",
    "    docKeywords = [s for s in keywords if s in row['normalized_words']]\n",
    "    docKeywords.append(row['copyrightYear'])\n",
    "    docKeywords.append(row['doi']) #This lets us extract individual documnets since doi's are unique\n",
    "    taggedDocs.append(gensim.models.doc2vec.LabeledSentence(words = row['normalized_words'], tags = docKeywords))\n",
    "apsDF['TaggedAbstracts'] = taggedDocs"
   ]
  },
  {
   "cell_type": "markdown",
   "metadata": {},
   "source": [
    "Now we can train a Doc2Vec model:"
   ]
  },
  {
   "cell_type": "code",
   "execution_count": 51,
   "metadata": {},
   "outputs": [],
   "source": [
    "apsD2V = gensim.models.doc2vec.Doc2Vec(apsDF['TaggedAbstracts'], size = 100) #Limiting to 100 dimensions"
   ]
  },
  {
   "cell_type": "markdown",
   "metadata": {},
   "source": [
    "We can get vectors for the tags/documents, just as we did with words. Documents are actually the centroids (high dimensional average points) of their words. "
   ]
  },
  {
   "cell_type": "code",
   "execution_count": 52,
   "metadata": {
    "scrolled": true
   },
   "outputs": [
    {
     "data": {
      "text/plain": [
       "array([ 1.4472057 ,  0.24151105,  1.4529102 , -0.48861116,  0.6868117 ,\n",
       "       -1.3785752 ,  0.13415655, -0.5344019 ,  0.5693333 , -0.23462686,\n",
       "        1.1002676 ,  0.39297134, -0.25842857, -0.03982326,  0.8115673 ,\n",
       "       -1.4172472 , -0.06062064,  0.4072115 ,  0.2101775 , -0.618725  ,\n",
       "        0.55040103, -0.7575754 ,  0.16589443,  0.7925147 , -1.3540791 ,\n",
       "       -0.5886038 ,  0.41900942,  1.1769227 , -0.73046726, -0.708622  ,\n",
       "       -0.63938767, -0.3272466 , -0.5372213 ,  0.87279457,  0.64672405,\n",
       "       -1.1344701 , -1.3500414 , -0.75985295,  0.44582447, -0.17545997,\n",
       "       -1.0247983 ,  1.8980108 ,  0.49341756,  0.91781527,  1.2768897 ,\n",
       "        0.57808405, -0.59792674,  1.2077957 ,  0.4156935 , -1.116661  ,\n",
       "        0.6752346 , -1.3050923 ,  1.245691  , -1.3361976 , -0.9988653 ,\n",
       "       -1.030869  ,  0.5122599 ,  0.31949788, -0.6917912 ,  0.6143349 ,\n",
       "        1.7665985 ,  0.50717974, -1.5136544 , -0.77875733,  0.06046138,\n",
       "       -0.24858636,  0.6808486 , -1.5022327 ,  0.00380828, -0.10709528,\n",
       "       -0.9121795 , -0.21291246, -0.7340158 , -1.5884066 ,  1.0106807 ,\n",
       "        0.11694842, -0.9458172 , -0.49058595, -1.6576186 ,  0.82843214,\n",
       "        0.28150854, -0.756708  , -1.3807843 ,  0.57779825, -1.0774349 ,\n",
       "        0.33319697, -0.04802053,  0.23113918,  1.4408963 ,  1.147652  ,\n",
       "       -0.75324106,  0.6545473 , -1.3495932 , -0.4361786 , -0.9724511 ,\n",
       "        1.4997859 , -1.3695059 , -0.2593303 ,  1.5064316 ,  1.2538528 ],\n",
       "      dtype=float32)"
      ]
     },
     "execution_count": 52,
     "metadata": {},
     "output_type": "execute_result"
    }
   ],
   "source": [
    "apsD2V.docvecs[1952]"
   ]
  },
  {
   "cell_type": "markdown",
   "metadata": {},
   "source": [
    "The words can still be accessed in the same way:"
   ]
  },
  {
   "cell_type": "code",
   "execution_count": 53,
   "metadata": {},
   "outputs": [
    {
     "data": {
      "text/plain": [
       "array([-0.28005564,  0.83915806, -0.20142052,  0.28903246,  0.03734107,\n",
       "        0.12756924,  0.3365373 ,  0.05776993,  1.0842034 , -0.7220571 ,\n",
       "        0.78441966,  0.09692722,  0.67182714,  0.1889587 ,  0.18365024,\n",
       "        0.05593599, -0.41428185,  0.24138959,  1.052728  ,  0.2599958 ,\n",
       "       -1.1115731 ,  0.39460984, -0.1183181 ,  1.0861142 ,  0.0084199 ,\n",
       "       -1.1546828 ,  0.55968434, -0.03865654,  0.04534305,  0.33638972,\n",
       "       -0.0649552 , -0.7070872 , -0.3109811 , -0.5057666 , -0.2826874 ,\n",
       "        0.11259948, -0.5793757 , -0.16026467,  0.7010555 ,  0.0214746 ,\n",
       "       -0.6675083 ,  0.4805284 , -0.32963502,  0.35961068, -0.019063  ,\n",
       "        0.84276617,  0.15217927,  0.53575534, -0.16877607, -0.42177013,\n",
       "        1.0265858 , -0.6401547 ,  0.97491235, -0.16528952, -0.707953  ,\n",
       "       -0.44002172,  0.58148366,  0.2095534 , -0.6078042 ,  0.11130964,\n",
       "        0.46082792,  0.6065794 , -0.2758843 ,  0.20257945, -0.13518263,\n",
       "       -0.14133808,  0.2200109 ,  0.17797554, -0.2505772 ,  0.5434142 ,\n",
       "        0.41796124, -0.03983463, -0.42999333, -1.0058771 ,  0.8319706 ,\n",
       "       -0.5124868 , -0.8489004 , -0.3909314 , -0.9631793 ,  0.91578555,\n",
       "        0.0550922 , -0.9689344 ,  0.03924089, -0.1600223 ,  0.22040612,\n",
       "       -0.06363571, -0.10199789,  1.1067533 , -0.15357925,  0.8837375 ,\n",
       "       -0.41433275,  0.3886488 , -0.01842926, -0.17032203, -0.75663394,\n",
       "        0.19249025, -0.3033278 , -0.56338763, -0.47353455,  0.19309986],\n",
       "      dtype=float32)"
      ]
     },
     "execution_count": 53,
     "metadata": {},
     "output_type": "execute_result"
    }
   ],
   "source": [
    "apsD2V['atom']"
   ]
  },
  {
   "cell_type": "markdown",
   "metadata": {},
   "source": [
    "We can still use the ``most_similar`` command to perform simple semantic equations:"
   ]
  },
  {
   "cell_type": "code",
   "execution_count": 54,
   "metadata": {},
   "outputs": [
    {
     "data": {
      "text/plain": [
       "[('atoms', 0.831512451171875)]"
      ]
     },
     "execution_count": 54,
     "metadata": {},
     "output_type": "execute_result"
    }
   ],
   "source": [
    "apsD2V.most_similar(positive = ['atom','electrons'], negative = ['electron'], topn = 1)"
   ]
  },
  {
   "cell_type": "markdown",
   "metadata": {},
   "source": [
    "This is interesting. **Electron** is to **electrons** as **atom** is to **atoms**. Another way to understand this, developed below is: **electrons - electron** induces a singular to plural dimension, so when we subtract **electron** from **atom** and add **electrons**, we get **atoms**! "
   ]
  },
  {
   "cell_type": "code",
   "execution_count": 55,
   "metadata": {},
   "outputs": [
    {
     "data": {
      "text/plain": [
       "[('feature', 0.9257014989852905)]"
      ]
     },
     "execution_count": 55,
     "metadata": {},
     "output_type": "execute_result"
    }
   ],
   "source": [
    "apsD2V.most_similar(positive = ['einstein','law'], negative = ['equation'], topn = 1)"
   ]
  },
  {
   "cell_type": "markdown",
   "metadata": {},
   "source": [
    "In other words **Einstein** minus **equation** plus **law** equals **Meissner**--Walthur Meissner studied mechanical engineering and physics ... and was more likely to produce a \"law\" than a \"equation\", like the Meissner effect, the damping of the magnetic field in superconductors. If we built our word-embedding with a bigger corpus like the entire arXiv, a massive repository of physics preprints, we would see many more such relationships like **gravity - Newton + Einstein = relativity**."
   ]
  },
  {
   "cell_type": "markdown",
   "metadata": {},
   "source": [
    "We can also compute all of these *by hand*--explicitly wth vector algebra: "
   ]
  },
  {
   "cell_type": "code",
   "execution_count": 56,
   "metadata": {},
   "outputs": [
    {
     "data": {
      "text/plain": [
       "array([[0.5974667]], dtype=float32)"
      ]
     },
     "execution_count": 56,
     "metadata": {},
     "output_type": "execute_result"
    }
   ],
   "source": [
    "sklearn.metrics.pairwise.cosine_similarity(apsD2V['electron'].reshape(1,-1), apsD2V['positron'].reshape(1,-1))\n",
    "#We reorient the vectors with .reshape(1, -1) so that they can be computed without a warning in sklearn"
   ]
  },
  {
   "cell_type": "markdown",
   "metadata": {},
   "source": [
    "In the doc2vec model, the documents have vectors just as the words do, so that we can compare documents with each other and also with words (similar to how a search engine locates a webpage with a query). First, we will calculate the distance between a word and documents in the dataset:"
   ]
  },
  {
   "cell_type": "code",
   "execution_count": 57,
   "metadata": {},
   "outputs": [
    {
     "data": {
      "text/plain": [
       "[('10.1103/PhysRev.104.1444', 0.6126227378845215),\n",
       " ('10.1103/PhysRev.100.1646', 0.6077008247375488),\n",
       " ('10.1103/PhysRev.109.319', 0.6056624054908752),\n",
       " ('10.1103/PhysRev.104.1528', 0.5926605463027954),\n",
       " ('10.1103/PhysRev.102.805', 0.5891528129577637)]"
      ]
     },
     "execution_count": 57,
     "metadata": {},
     "output_type": "execute_result"
    }
   ],
   "source": [
    "apsD2V.docvecs.most_similar([ apsD2V['electron'] ], topn=5 )"
   ]
  },
  {
   "cell_type": "markdown",
   "metadata": {},
   "source": [
    "If we search for the first of these on the web (these are doi codes), we find the following...a pretty good match:\n",
    "<img src='../data/PhysRev.98.875.jpg'>"
   ]
  },
  {
   "cell_type": "markdown",
   "metadata": {},
   "source": [
    "Now let's go the other way around and find words most similar to this document:"
   ]
  },
  {
   "cell_type": "code",
   "execution_count": 58,
   "metadata": {},
   "outputs": [
    {
     "data": {
      "text/plain": [
       "[('longitude', 0.8157679438591003),\n",
       " ('running', 0.813378632068634),\n",
       " ('diurnal', 0.8026859164237976),\n",
       " ('flares', 0.7800118923187256),\n",
       " ('intensity', 0.7783427834510803)]"
      ]
     },
     "execution_count": 58,
     "metadata": {},
     "output_type": "execute_result"
    }
   ],
   "source": [
    "apsD2V.most_similar( [ apsD2V.docvecs['10.1103/PhysRev.98.875'] ], topn=5) "
   ]
  },
  {
   "cell_type": "markdown",
   "metadata": {},
   "source": [
    "We can even look for documents most like a query composed of multiple words:"
   ]
  },
  {
   "cell_type": "code",
   "execution_count": 59,
   "metadata": {},
   "outputs": [
    {
     "data": {
      "text/plain": [
       "[('10.1103/PhysRev.89.1053', 0.7741438746452332),\n",
       " ('10.1103/PhysRev.105.1037', 0.7739917635917664),\n",
       " ('10.1103/PhysRev.113.156', 0.7706084251403809),\n",
       " ('10.1103/PhysRev.89.724', 0.7684460282325745),\n",
       " ('10.1103/PhysRev.101.388', 0.7664670944213867)]"
      ]
     },
     "execution_count": 59,
     "metadata": {},
     "output_type": "execute_result"
    }
   ],
   "source": [
    "apsD2V.docvecs.most_similar([ apsD2V['electron']+apsD2V['positron']+apsD2V['neutron']], topn=5 )"
   ]
  },
  {
   "cell_type": "markdown",
   "metadata": {},
   "source": [
    "Now let's plot some words and documents against one another with a heatmap:"
   ]
  },
  {
   "cell_type": "code",
   "execution_count": 60,
   "metadata": {},
   "outputs": [],
   "source": [
    "heatmapMatrix = []\n",
    "for tagOuter in keywords:\n",
    "    column = []\n",
    "    tagVec = apsD2V.docvecs[tagOuter].reshape(1, -1)\n",
    "    for tagInner in keywords:\n",
    "        column.append(sklearn.metrics.pairwise.cosine_similarity(tagVec, apsD2V.docvecs[tagInner].reshape(1, -1))[0][0])\n",
    "    heatmapMatrix.append(column)\n",
    "heatmapMatrix = np.array(heatmapMatrix)"
   ]
  },
  {
   "cell_type": "code",
   "execution_count": 61,
   "metadata": {},
   "outputs": [
    {
     "data": {
      "image/png": "[encoded data removed]",
      "text/plain": [
       "<matplotlib.figure.Figure at 0x2555b40e550>"
      ]
     },
     "metadata": {},
     "output_type": "display_data"
    }
   ],
   "source": [
    "fig, ax = plt.subplots()\n",
    "hmap = ax.pcolor(heatmapMatrix, cmap='terrain')\n",
    "cbar = plt.colorbar(hmap)\n",
    "\n",
    "cbar.set_label('cosine similarity', rotation=270)\n",
    "a = ax.set_xticks(np.arange(heatmapMatrix.shape[1]) + 0.5, minor=False)\n",
    "a = ax.set_yticks(np.arange(heatmapMatrix.shape[0]) + 0.5, minor=False)\n",
    "\n",
    "a = ax.set_xticklabels(keywords, minor=False, rotation=270)\n",
    "a = ax.set_yticklabels(keywords, minor=False)"
   ]
  },
  {
   "cell_type": "markdown",
   "metadata": {},
   "source": [
    "Now let's look at a heatmap of similarities between the first ten documents in the corpus:"
   ]
  },
  {
   "cell_type": "code",
   "execution_count": 62,
   "metadata": {},
   "outputs": [],
   "source": [
    "targetDocs = apsDF['doi'][:10]\n",
    "\n",
    "heatmapMatrixD = []\n",
    "\n",
    "for tagOuter in targetDocs:\n",
    "    column = []\n",
    "    tagVec = apsD2V.docvecs[tagOuter].reshape(1, -1)\n",
    "    for tagInner in targetDocs:\n",
    "        column.append(sklearn.metrics.pairwise.cosine_similarity(tagVec, apsD2V.docvecs[tagInner].reshape(1, -1))[0][0])\n",
    "    heatmapMatrixD.append(column)\n",
    "heatmapMatrixD = np.array(heatmapMatrixD)"
   ]
  },
  {
   "cell_type": "code",
   "execution_count": 63,
   "metadata": {},
   "outputs": [
    {
     "data": {
      "image/png": "[encoded data removed]",
      "text/plain": [
       "<matplotlib.figure.Figure at 0x255419f1860>"
      ]
     },
     "metadata": {},
     "output_type": "display_data"
    }
   ],
   "source": [
    "fig, ax = plt.subplots()\n",
    "hmap = ax.pcolor(heatmapMatrixD, cmap='terrain')\n",
    "cbar = plt.colorbar(hmap)\n",
    "\n",
    "cbar.set_label('cosine similarity', rotation=270)\n",
    "a = ax.set_xticks(np.arange(heatmapMatrixD.shape[1]) + 0.5, minor=False)\n",
    "a = ax.set_yticks(np.arange(heatmapMatrixD.shape[0]) + 0.5, minor=False)\n",
    "\n",
    "a = ax.set_xticklabels(targetDocs, minor=False, rotation=270)\n",
    "a = ax.set_yticklabels(targetDocs, minor=False)"
   ]
  },
  {
   "cell_type": "markdown",
   "metadata": {},
   "source": [
    "Now let's look at a heatmap of similarities between the first ten documents and our keywords:"
   ]
  },
  {
   "cell_type": "code",
   "execution_count": 64,
   "metadata": {},
   "outputs": [],
   "source": [
    "heatmapMatrixC = []\n",
    "\n",
    "for tagOuter in targetDocs:\n",
    "    column = []\n",
    "    tagVec = apsD2V.docvecs[tagOuter].reshape(1, -1)\n",
    "    for tagInner in keywords:\n",
    "        column.append(sklearn.metrics.pairwise.cosine_similarity(tagVec, apsD2V.docvecs[tagInner].reshape(1, -1))[0][0])\n",
    "    heatmapMatrixC.append(column)\n",
    "heatmapMatrixC = np.array(heatmapMatrixC)"
   ]
  },
  {
   "cell_type": "code",
   "execution_count": 65,
   "metadata": {},
   "outputs": [
    {
     "data": {
      "image/png": "[encoded data removed]",
      "text/plain": [
       "<matplotlib.figure.Figure at 0x2555bda4198>"
      ]
     },
     "metadata": {},
     "output_type": "display_data"
    }
   ],
   "source": [
    "fig, ax = plt.subplots()\n",
    "hmap = ax.pcolor(heatmapMatrixC, cmap='terrain')\n",
    "cbar = plt.colorbar(hmap)\n",
    "\n",
    "cbar.set_label('cosine similarity', rotation=270)\n",
    "a = ax.set_xticks(np.arange(heatmapMatrixC.shape[1]) + 0.5, minor=False)\n",
    "a = ax.set_yticks(np.arange(heatmapMatrixC.shape[0]) + 0.5, minor=False)\n",
    "\n",
    "a = ax.set_xticklabels(keywords, minor=False, rotation=270)\n",
    "a = ax.set_yticklabels(targetDocs, minor=False)"
   ]
  },
  {
   "cell_type": "markdown",
   "metadata": {},
   "source": [
    "We will save the model in case we would like to use it again."
   ]
  },
  {
   "cell_type": "code",
   "execution_count": 66,
   "metadata": {},
   "outputs": [],
   "source": [
    "apsD2V.save('apsW2V')"
   ]
  },
  {
   "cell_type": "markdown",
   "metadata": {},
   "source": [
    "We can later load it:"
   ]
  },
  {
   "cell_type": "code",
   "execution_count": 67,
   "metadata": {},
   "outputs": [],
   "source": [
    "#apsD2V = gensim.models.word2vec.Word2Vec.load('data/apsW2V')"
   ]
  },
  {
   "cell_type": "markdown",
   "metadata": {},
   "source": [
    "## <span style=\"color:red\">*Exercise 2*</span>\n",
    "\n",
    "<span style=\"color:red\">Construct cells immediately below this that build a doc2vec model with your corpus. Interrogate document and word relationships in the resulting space. Construct a heatmap that plots the distances between a subset of your documents against each other, and against a set of informative words. Find distances between *every* document in your corpus and a word or query of interest. What do these doc-doc proximities reveal about your corpus? What do these word-doc proximities highlight? Demonstrate and document one reasonable way to select a defensible subset of query-relevant documents for subsequent analysis."
   ]
  },
  {
   "cell_type": "code",
   "execution_count": 51,
   "metadata": {},
   "outputs": [],
   "source": [
    "# create index of interesting words\n",
    "keywords = ['communities', 'help', 'employee', 'customer', 'shareholder', 'dividend', 'regulatory', 'market']"
   ]
  },
  {
   "cell_type": "code",
   "execution_count": 52,
   "metadata": {},
   "outputs": [],
   "source": [
    "#ensure words are normalized \n",
    "df['tokenized_words'] = df['text'].apply(lambda x: nltk.word_tokenize(x))\n",
    "df['normalized_words'] = df['tokenized_words'].apply(lambda x: lucem_illud.normalizeTokens(x, stopwordLst = lucem_illud.stop_words_basic, stemmer = None))"
   ]
  },
  {
   "cell_type": "code",
   "execution_count": 53,
   "metadata": {},
   "outputs": [],
   "source": [
    "taggedDocs = []\n",
    "for index, row in df.iterrows():\n",
    "    #Just doing a simple keyword assignment\n",
    "    docKeywords = [s for s in keywords if s in row['normalized_words']]\n",
    "    docKeywords.append(row['year'])\n",
    "    docKeywords.append(row['company']) #This lets us extract individual documents (by company year)\n",
    "    taggedDocs.append(gensim.models.doc2vec.LabeledSentence(words = row['normalized_words'], tags = docKeywords))\n",
    "df['TaggedText'] = taggedDocs"
   ]
  },
  {
   "cell_type": "code",
   "execution_count": 54,
   "metadata": {},
   "outputs": [],
   "source": [
    "#train doc \n",
    "lettersD2V = gensim.models.doc2vec.Doc2Vec(df['TaggedText'], size = 100) #Limiting to 100 dimensions"
   ]
  },
  {
   "cell_type": "code",
   "execution_count": 55,
   "metadata": {},
   "outputs": [
    {
     "data": {
      "text/plain": [
       "[('repeat', 0.9658060669898987)]"
      ]
     },
     "execution_count": 55,
     "metadata": {},
     "output_type": "execute_result"
    }
   ],
   "source": [
    "lettersD2V.most_similar(positive = ['communities','education'], negative = ['global'], topn = 1)"
   ]
  },
  {
   "cell_type": "code",
   "execution_count": 56,
   "metadata": {},
   "outputs": [
    {
     "data": {
      "text/plain": [
       "[('standard', 0.8041067719459534)]"
      ]
     },
     "execution_count": 56,
     "metadata": {},
     "output_type": "execute_result"
    }
   ],
   "source": [
    "lettersD2V.most_similar(positive = ['market','customer'], negative = ['global'], topn = 1)"
   ]
  },
  {
   "cell_type": "code",
   "execution_count": 57,
   "metadata": {},
   "outputs": [
    {
     "data": {
      "text/plain": [
       "[('Citigroup ', 0.9680181741714478),\n",
       " ('UnitedHealth Group ', 0.9432245492935181),\n",
       " ('2014', 0.9373717308044434),\n",
       " ('ExxonMobil Letter ', 0.9227093458175659),\n",
       " ('Disney Letter ', 0.8819825649261475)]"
      ]
     },
     "execution_count": 57,
     "metadata": {},
     "output_type": "execute_result"
    }
   ],
   "source": [
    "lettersD2V.docvecs.most_similar([ lettersD2V['community']+lettersD2V['environment']+lettersD2V['education']], topn=5 )"
   ]
  },
  {
   "cell_type": "code",
   "execution_count": 60,
   "metadata": {
    "scrolled": false
   },
   "outputs": [
    {
     "data": {
      "text/plain": [
       "[('contributions', 0.9915191531181335),\n",
       " ('story', 0.9891424775123596),\n",
       " ('successes', 0.9889246225357056),\n",
       " ('apparel', 0.98711097240448),\n",
       " ('union', 0.9865443110466003)]"
      ]
     },
     "execution_count": 60,
     "metadata": {},
     "output_type": "execute_result"
    }
   ],
   "source": [
    "lettersD2V.most_similar( [ lettersD2V.docvecs['Disney Letter '] ], topn=5) "
   ]
  },
  {
   "cell_type": "code",
   "execution_count": 73,
   "metadata": {
    "scrolled": true
   },
   "outputs": [
    {
     "name": "stdout",
     "output_type": "stream",
     "text": [
      "3M Letter has distance with \"customer\" of : \n",
      "[[0.09321653]]\n",
      "Alcoa Letter has distance with \"customer\" of : \n",
      "[[0.6149768]]\n",
      "American Express Letter has distance with \"customer\" of : \n",
      "[[-0.48950055]]\n",
      "AT&T Letter has distance with \"customer\" of : \n",
      "[[-0.00644445]]\n",
      "Boeing Letter has distance with \"customer\" of : \n",
      "[[-0.06896746]]\n",
      "Caterpillar Letter has distance with \"customer\" of : \n",
      "[[0.47616044]]\n",
      "Citigroup Letter has distance with \"customer\" of : \n",
      "[[0.5531465]]\n",
      "Coca Cola Letter has distance with \"customer\" of : \n",
      "[[-0.75906384]]\n",
      "Disney 2000 Lehas distance with \"customer\" of : \n",
      "[[0.40719655]]\n",
      "DuPont Letter has distance with \"customer\" of : \n",
      "[[-0.3988949]]\n",
      "Eastman Kodak Letter has distance with \"customer\" of : \n",
      "[[0.64103305]]\n",
      "ExxonMobil Letter has distance with \"customer\" of : \n",
      "[[0.6222638]]\n",
      "General Electric Letter has distance with \"customer\" of : \n",
      "[[0.3070746]]\n",
      "Hewlett Packard Letter has distance with \"customer\" of : \n",
      "[[0.53862923]]\n",
      "Home Depot Letter has distance with \"customer\" of : \n",
      "[[0.80903524]]\n",
      "IBM Letter has distance with \"customer\" of : \n",
      "[[0.44780403]]\n",
      "Intel Letter has distance with \"customer\" of : \n",
      "[[0.668388]]\n",
      "International Paper Company Letter has distance with \"customer\" of : \n",
      "[[0.4193699]]\n",
      "Johnson & Johnson Letter has distance with \"customer\" of : \n",
      "[[-0.0325516]]\n",
      "JPMorganChase Letter has distance with \"customer\" of : \n",
      "[[-0.29797274]]\n",
      "McDonalds Letter has distance with \"customer\" of : \n",
      "[[0.43980825]]\n",
      "Microsoft Letter has distance with \"customer\" of : \n",
      "[[0.5115608]]\n",
      "P&G Letter has distance with \"customer\" of : \n",
      "[[0.19706535]]\n",
      "Citigroup has distance with \"customer\" of : \n",
      "[[0.53711563]]\n",
      "Disney has distance with \"customer\" of : \n",
      "[[0.36510473]]\n",
      "IBM has distance with \"customer\" of : \n",
      "[[0.31825528]]\n",
      "JPMorgan Chase has distance with \"customer\" of : \n",
      "[[-0.06441884]]\n",
      "Microsoft has distance with \"customer\" of : \n",
      "[[0.5572297]]\n",
      "P&G has distance with \"customer\" of : \n",
      "[[0.20435478]]\n",
      "Pfizer has distance with \"customer\" of : \n",
      "[[-0.12014069]]\n",
      "Walmart has distance with \"customer\" of : \n",
      "[[0.77262044]]\n",
      "Citigroup has distance with \"customer\" of : \n",
      "[[0.53711563]]\n",
      "Disney has distance with \"customer\" of : \n",
      "[[0.36510473]]\n",
      "IBM has distance with \"customer\" of : \n",
      "[[0.31825528]]\n",
      "JP Morgan Chase has distance with \"customer\" of : \n",
      "[[-0.10030642]]\n",
      "Microsoft has distance with \"customer\" of : \n",
      "[[0.5572297]]\n",
      "P&G has distance with \"customer\" of : \n",
      "[[0.20435478]]\n",
      "Pfizer has distance with \"customer\" of : \n",
      "[[-0.12014069]]\n",
      "Verizon has distance with \"customer\" of : \n",
      "[[0.63742554]]\n",
      "Walmart has distance with \"customer\" of : \n",
      "[[0.77262044]]\n",
      "American Express has distance with \"customer\" of : \n",
      "[[0.21040575]]\n",
      "Boeing has distance with \"customer\" of : \n",
      "[[0.3319145]]\n",
      "Citigroup has distance with \"customer\" of : \n",
      "[[0.53711563]]\n",
      "Disney has distance with \"customer\" of : \n",
      "[[0.36510473]]\n",
      "IBM has distance with \"customer\" of : \n",
      "[[0.31825528]]\n",
      "JP Morgan Chase has distance with \"customer\" of : \n",
      "[[-0.10030642]]\n",
      "Microsoft has distance with \"customer\" of : \n",
      "[[0.5572297]]\n",
      "P&G has distance with \"customer\" of : \n",
      "[[0.20435478]]\n",
      "Pfizer has distance with \"customer\" of : \n",
      "[[-0.12014069]]\n",
      "Verizon has distance with \"customer\" of : \n",
      "[[0.63742554]]\n",
      "Walmart has distance with \"customer\" of : \n",
      "[[0.77262044]]\n",
      "American Express has distance with \"customer\" of : \n",
      "[[0.21040575]]\n",
      "Bank of America has distance with \"customer\" of : \n",
      "[[-0.27314416]]\n",
      "Boeing has distance with \"customer\" of : \n",
      "[[0.3319145]]\n",
      "Caterpillar has distance with \"customer\" of : \n",
      "[[0.4115628]]\n",
      "Chevron has distance with \"customer\" of : \n",
      "[[0.05592288]]\n",
      "Citigroup has distance with \"customer\" of : \n",
      "[[0.53711563]]\n",
      "Disney has distance with \"customer\" of : \n",
      "[[0.36510473]]\n",
      "IBM has distance with \"customer\" of : \n",
      "[[0.31825528]]\n",
      "Johnson and Johnson has distance with \"customer\" of : \n",
      "[[0.00096942]]\n",
      "JP Morgan Chase has distance with \"customer\" of : \n",
      "[[-0.10030642]]\n",
      "Microsoft has distance with \"customer\" of : \n",
      "[[0.5572297]]\n",
      "P&G has distance with \"customer\" of : \n",
      "[[0.20435478]]\n",
      "Pfizer has distance with \"customer\" of : \n",
      "[[-0.12014069]]\n",
      "United Technologies Corporation has distance with \"customer\" of : \n",
      "[[0.49517712]]\n",
      "Verizon has distance with \"customer\" of : \n",
      "[[0.63742554]]\n",
      "Walmart has distance with \"customer\" of : \n",
      "[[0.77262044]]\n",
      "American Express has distance with \"customer\" of : \n",
      "[[0.21040575]]\n",
      "Bank of America has distance with \"customer\" of : \n",
      "[[-0.27314416]]\n",
      "Boeing has distance with \"customer\" of : \n",
      "[[0.3319145]]\n",
      "Caterpillar has distance with \"customer\" of : \n",
      "[[0.4115628]]\n",
      "Chevron has distance with \"customer\" of : \n",
      "[[0.05592288]]\n",
      "Cisco Systems has distance with \"customer\" of : \n",
      "[[0.50120884]]\n",
      "Disney has distance with \"customer\" of : \n",
      "[[0.36510473]]\n",
      "IBM has distance with \"customer\" of : \n",
      "[[0.31825528]]\n",
      "Johnson and Johnson has distance with \"customer\" of : \n",
      "[[0.00096942]]\n",
      "JPMorgan Chase has distance with \"customer\" of : \n",
      "[[-0.06441884]]\n",
      "Microsoft has distance with \"customer\" of : \n",
      "[[0.5572297]]\n",
      "P&G has distance with \"customer\" of : \n",
      "[[0.20435478]]\n",
      "Pfizer has distance with \"customer\" of : \n",
      "[[-0.12014069]]\n",
      "Travelers has distance with \"customer\" of : \n",
      "[[-0.6429227]]\n",
      "United Technologies Corporation has distance with \"customer\" of : \n",
      "[[0.49517712]]\n",
      "Verizon has distance with \"customer\" of : \n",
      "[[0.63742554]]\n",
      "Walmart has distance with \"customer\" of : \n",
      "[[0.77262044]]\n",
      "3M Letter has distance with \"customer\" of : \n",
      "[[0.09321653]]\n",
      "American Express Letter has distance with \"customer\" of : \n",
      "[[-0.48950055]]\n",
      "AT&T Letter has distance with \"customer\" of : \n",
      "[[-0.00644445]]\n",
      "Bank of America Letter has distance with \"customer\" of : \n",
      "[[-0.4232344]]\n",
      "Boeing Company Letter has distance with \"customer\" of : \n",
      "[[-0.38545]]\n",
      "Caterpillar Letter has distance with \"customer\" of : \n",
      "[[0.47616044]]\n",
      "Chevron Corporation Letter has distance with \"customer\" of : \n",
      "[[0.629043]]\n",
      "Cisco Systems Letter has distance with \"customer\" of : \n",
      "[[0.4505187]]\n",
      "Coca Cola Letter has distance with \"customer\" of : \n",
      "[[-0.75906384]]\n",
      "DuPont Letter has distance with \"customer\" of : \n",
      "[[-0.3988949]]\n",
      "Exxon Mobil Letter has distance with \"customer\" of : \n",
      "[[0.5686266]]\n",
      "General Electric Letter has distance with \"customer\" of : \n",
      "[[0.3070746]]\n",
      "Hewlett Packard Letter has distance with \"customer\" of : \n",
      "[[0.53862923]]\n",
      "Home Depot Letter has distance with \"customer\" of : \n",
      "[[0.80903524]]\n",
      "IBM Letter has distance with \"customer\" of : \n",
      "[[0.44780403]]\n",
      "Intel Letter has distance with \"customer\" of : \n",
      "[[0.668388]]\n",
      "Johnson and Johnson Letter has distance with \"customer\" of : \n",
      "[[-0.23040657]]\n",
      "JP Morgan and Chase Letter has distance with \"customer\" of : \n",
      "[[-0.01017709]]\n",
      "McDonalds Letter has distance with \"customer\" of : \n",
      "[[0.43980825]]\n",
      "Merck and co Letter has distance with \"customer\" of : \n",
      "[[-0.36730644]]\n",
      "Pfizer Inc Letter has distance with \"customer\" of : \n",
      "[[0.2795617]]\n",
      "Proctor and Gamble Letter has distance with \"customer\" of : \n",
      "[[0.42851144]]\n",
      "Travelers Letter has distance with \"customer\" of : \n",
      "[[-0.77708584]]\n",
      "United HealthGroup Inc Letter has distance with \"customer\" of : \n",
      "[[-0.01874392]]\n",
      "United Technologies Corporation Letter has distance with \"customer\" of : \n",
      "[[0.6185211]]\n",
      "Verizon Communications Letter has distance with \"customer\" of : \n",
      "[[-0.2370467]]\n",
      "Walmart Letter has distance with \"customer\" of : \n",
      "[[0.17379822]]\n",
      "Walt Disney Company Letter has distance with \"customer\" of : \n",
      "[[0.49462125]]\n",
      "American Express has distance with \"customer\" of : \n",
      "[[0.21040575]]\n",
      "AT&T has distance with \"customer\" of : \n",
      "[[0.54860526]]\n",
      "Bank of America has distance with \"customer\" of : \n",
      "[[-0.27314416]]\n",
      "Boeing has distance with \"customer\" of : \n",
      "[[0.3319145]]\n",
      "Caterpillar has distance with \"customer\" of : \n",
      "[[0.4115628]]\n",
      "Chevron has distance with \"customer\" of : \n",
      "[[0.05592288]]\n",
      "Cisco Systems has distance with \"customer\" of : \n",
      "[[0.50120884]]\n",
      "Disney has distance with \"customer\" of : \n",
      "[[0.36510473]]\n",
      "Exxon Mobil has distance with \"customer\" of : \n",
      "[[0.45028177]]\n",
      "Home Depot has distance with \"customer\" of : \n",
      "[[0.7279172]]\n",
      "IBM has distance with \"customer\" of : \n",
      "[[0.31825528]]\n",
      "Intel has distance with \"customer\" of : \n",
      "[[0.63175505]]\n",
      "Johnson and Johnson has distance with \"customer\" of : \n",
      "[[0.00096942]]\n",
      "JPMorgan Chase has distance with \"customer\" of : \n",
      "[[-0.06441884]]\n",
      "McDonald's has distance with \"customer\" of : \n",
      "[[0.53919184]]\n",
      "Microsoft has distance with \"customer\" of : \n",
      "[[0.5572297]]\n",
      "P&G has distance with \"customer\" of : \n",
      "[[0.20435478]]\n",
      "Pfizer has distance with \"customer\" of : \n",
      "[[-0.12014069]]\n",
      "Travelers has distance with \"customer\" of : \n",
      "[[-0.6429227]]\n",
      "United Technologies Corporation has distance with \"customer\" of : \n",
      "[[0.49517712]]\n",
      "Verizon has distance with \"customer\" of : \n",
      "[[0.63742554]]\n",
      "Walmart has distance with \"customer\" of : \n",
      "[[0.77262044]]\n",
      "3M has distance with \"customer\" of : \n",
      "[[0.5333328]]\n",
      "American Express has distance with \"customer\" of : \n",
      "[[0.21040575]]\n",
      "AT&T has distance with \"customer\" of : \n",
      "[[0.54860526]]\n",
      "Bank of America has distance with \"customer\" of : \n",
      "[[-0.27314416]]\n",
      "Boeing has distance with \"customer\" of : \n",
      "[[0.3319145]]\n",
      "Caterpillar has distance with \"customer\" of : \n",
      "[[0.4115628]]\n",
      "Chevron has distance with \"customer\" of : \n",
      "[[0.05592288]]\n",
      "Cisco Systems has distance with \"customer\" of : \n",
      "[[0.50120884]]\n",
      "Disney has distance with \"customer\" of : \n",
      "[[0.36510473]]\n",
      "Exxon Mobil has distance with \"customer\" of : \n",
      "[[0.45028177]]\n",
      "General Electric has distance with \"customer\" of : \n",
      "[[0.31559777]]\n",
      "Home Depot has distance with \"customer\" of : \n",
      "[[0.7279172]]\n",
      "IBM has distance with \"customer\" of : \n",
      "[[0.31825528]]\n",
      "Intel has distance with \"customer\" of : \n",
      "[[0.63175505]]\n",
      "Johnson and Johnson has distance with \"customer\" of : \n",
      "[[0.00096942]]\n",
      "JPMorgan Chase has distance with \"customer\" of : \n",
      "[[-0.06441884]]\n",
      "McDonald's has distance with \"customer\" of : \n",
      "[[0.53919184]]\n",
      "Microsoft has distance with \"customer\" of : \n",
      "[[0.5572297]]\n",
      "P&G has distance with \"customer\" of : \n",
      "[[0.20435478]]\n",
      "Pfizer has distance with \"customer\" of : \n",
      "[[-0.12014069]]\n",
      "Travelers has distance with \"customer\" of : \n",
      "[[-0.6429227]]\n",
      "United Technologies Corporation has distance with \"customer\" of : \n",
      "[[0.49517712]]\n",
      "Verizon has distance with \"customer\" of : \n",
      "[[0.63742554]]\n",
      "Walmart has distance with \"customer\" of : \n",
      "[[0.77262044]]\n",
      "3M has distance with \"customer\" of : \n",
      "[[0.5333328]]\n",
      "American Express has distance with \"customer\" of : \n",
      "[[0.21040575]]\n",
      "AT&T has distance with \"customer\" of : \n",
      "[[0.54860526]]\n",
      "Bank of America has distance with \"customer\" of : \n",
      "[[-0.27314416]]\n",
      "Boeing has distance with \"customer\" of : \n",
      "[[0.3319145]]\n",
      "Caterpillar has distance with \"customer\" of : \n",
      "[[0.4115628]]\n",
      "Chevron has distance with \"customer\" of : \n",
      "[[0.05592288]]\n",
      "Cisco Systems has distance with \"customer\" of : \n",
      "[[0.50120884]]\n",
      "Disney has distance with \"customer\" of : \n",
      "[[0.36510473]]\n",
      "Exxon Mobil has distance with \"customer\" of : \n",
      "[[0.45028177]]\n",
      "General Electric has distance with \"customer\" of : \n",
      "[[0.31559777]]\n",
      "Goldman Sachs has distance with \"customer\" of : \n",
      "[[-0.3142393]]\n",
      "Home Depot has distance with \"customer\" of : \n",
      "[[0.7279172]]\n",
      "IBM has distance with \"customer\" of : \n",
      "[[0.31825528]]\n",
      "Intel has distance with \"customer\" of : \n",
      "[[0.63175505]]\n",
      "Johnson and Johnson has distance with \"customer\" of : \n",
      "[[0.00096942]]\n",
      "JPMorgan Chase has distance with \"customer\" of : \n",
      "[[-0.06441884]]\n",
      "McDonald's has distance with \"customer\" of : \n",
      "[[0.53919184]]\n",
      "Microsoft has distance with \"customer\" of : \n",
      "[[0.5572297]]\n",
      "Nike has distance with \"customer\" of : \n",
      "[[0.65377444]]\n",
      "P&G has distance with \"customer\" of : \n",
      "[[0.20435478]]\n",
      "Pfizer has distance with \"customer\" of : \n",
      "[[-0.12014069]]\n",
      "Travelers has distance with \"customer\" of : \n",
      "[[-0.6429227]]\n",
      "United Technologies Corporation has distance with \"customer\" of : \n",
      "[[0.49517712]]\n",
      "UnitedHealth Group has distance with \"customer\" of : \n",
      "[[0.6330731]]\n",
      "Verizon has distance with \"customer\" of : \n",
      "[[0.63742554]]\n",
      "Walmart has distance with \"customer\" of : \n",
      "[[0.77262044]]\n",
      "3M has distance with \"customer\" of : \n",
      "[[0.5333328]]\n",
      "American Express has distance with \"customer\" of : \n",
      "[[0.21040575]]\n",
      "AT&T has distance with \"customer\" of : \n",
      "[[0.54860526]]\n",
      "Bank of America has distance with \"customer\" of : \n",
      "[[-0.27314416]]\n",
      "Boeing has distance with \"customer\" of : \n",
      "[[0.3319145]]\n",
      "Caterpillar has distance with \"customer\" of : \n",
      "[[0.4115628]]\n",
      "Chevron has distance with \"customer\" of : \n",
      "[[0.05592288]]\n",
      "Cisco Systems has distance with \"customer\" of : \n",
      "[[0.50120884]]\n",
      "Disney has distance with \"customer\" of : \n",
      "[[0.36510473]]\n",
      "Exxon Mobil has distance with \"customer\" of : \n",
      "[[0.45028177]]\n",
      "General Electric has distance with \"customer\" of : \n",
      "[[0.31559777]]\n",
      "Goldman Sachs has distance with \"customer\" of : \n",
      "[[-0.3142393]]\n",
      "Home Depot has distance with \"customer\" of : \n",
      "[[0.7279172]]\n",
      "IBM has distance with \"customer\" of : \n",
      "[[0.31825528]]\n",
      "Intel has distance with \"customer\" of : \n",
      "[[0.63175505]]\n",
      "Johnson and Johnson has distance with \"customer\" of : \n",
      "[[0.00096942]]\n",
      "JPMorgan Chase has distance with \"customer\" of : \n",
      "[[-0.06441884]]\n",
      "McDonald's has distance with \"customer\" of : \n",
      "[[0.53919184]]\n",
      "Microsoft has distance with \"customer\" of : \n",
      "[[0.5572297]]\n",
      "Nike has distance with \"customer\" of : \n",
      "[[0.65377444]]\n",
      "P&G has distance with \"customer\" of : \n",
      "[[0.20435478]]\n",
      "Pfizer has distance with \"customer\" of : \n",
      "[[-0.12014069]]\n",
      "Travelers has distance with \"customer\" of : \n",
      "[[-0.6429227]]\n",
      "United Technologies Corporation has distance with \"customer\" of : \n",
      "[[0.49517712]]\n",
      "Verizon has distance with \"customer\" of : \n",
      "[[0.63742554]]\n",
      "Walmart has distance with \"customer\" of : \n",
      "[[0.77262044]]\n",
      "3M Letter has distance with \"customer\" of : \n",
      "[[0.09321653]]\n",
      "Alcoa Letter 2000 has distance with \"customer\" of : \n",
      "[[-0.3641905]]\n",
      "American Express Letter has distance with \"customer\" of : \n",
      "[[-0.48950055]]\n",
      "Boeing Letter has distance with \"customer\" of : \n",
      "[[-0.06896746]]\n",
      "Caterpillar Letter has distance with \"customer\" of : \n",
      "[[0.47616044]]\n",
      "Chevron Letter has distance with \"customer\" of : \n",
      "[[0.62041897]]\n",
      "Cisco Systems Letter has distance with \"customer\" of : \n",
      "[[0.4505187]]\n",
      "Disney Letter has distance with \"customer\" of : \n",
      "[[0.64002705]]\n",
      "Du Pont Letter has distance with \"customer\" of : \n",
      "[[-0.25754708]]\n",
      "Exxon Mobil Letter has distance with \"customer\" of : \n",
      "[[0.5686266]]\n",
      "General Electric Letter has distance with \"customer\" of : \n",
      "[[0.3070746]]\n",
      "Goldman Sachs Letter has distance with \"customer\" of : \n",
      "[[-0.7600135]]\n",
      "Home Depot Letter has distance with \"customer\" of : \n",
      "[[0.80903524]]\n",
      "IBM Letter has distance with \"customer\" of : \n",
      "[[0.44780403]]\n",
      "Intel Letter has distance with \"customer\" of : \n",
      "[[0.668388]]\n",
      "Johnson and Johnson Letter has distance with \"customer\" of : \n",
      "[[-0.23040657]]\n",
      "JPMorgan Chase Letter has distance with \"customer\" of : \n",
      "[[-0.02466917]]\n",
      "McDonalds letter has distance with \"customer\" of : \n",
      "[[0.82391304]]\n",
      "Merck Letter has distance with \"customer\" of : \n",
      "[[0.6002873]]\n",
      "Microsoft Letter has distance with \"customer\" of : \n",
      "[[0.5115608]]\n",
      "Nike letter has distance with \"customer\" of : \n",
      "[[0.63968617]]\n",
      "P&G Letter has distance with \"customer\" of : \n",
      "[[0.19706535]]\n",
      "Pfizer letter has distance with \"customer\" of : \n",
      "[[-0.06290701]]\n",
      "Travelers Letter has distance with \"customer\" of : \n",
      "[[-0.77708584]]\n",
      "United Technologies Corporation Letter has distance with \"customer\" of : \n",
      "[[0.6185211]]\n",
      "Verizon Letter has distance with \"customer\" of : \n",
      "[[-0.04843823]]\n",
      "Visa Letter has distance with \"customer\" of : \n",
      "[[-0.4975527]]\n",
      "3M has distance with \"customer\" of : \n",
      "[[0.5333328]]\n",
      "Alcoa has distance with \"customer\" of : \n",
      "[[0.21293099]]\n",
      "American Express has distance with \"customer\" of : \n",
      "[[0.21040575]]\n",
      "Bank of America has distance with \"customer\" of : \n",
      "[[-0.27314416]]\n",
      "Boeing has distance with \"customer\" of : \n",
      "[[0.3319145]]\n",
      "Caterpillar has distance with \"customer\" of : \n",
      "[[0.4115628]]\n",
      "Chevron has distance with \"customer\" of : \n",
      "[[0.05592288]]\n",
      "Cisco Systems has distance with \"customer\" of : \n",
      "[[0.50120884]]\n",
      "Exxon Mobil has distance with \"customer\" of : \n"
     ]
    },
    {
     "name": "stdout",
     "output_type": "stream",
     "text": [
      "[[0.45028177]]\n",
      "General Electric has distance with \"customer\" of : \n",
      "[[0.31559777]]\n",
      "Goldman Sachs has distance with \"customer\" of : \n",
      "[[-0.3142393]]\n",
      "Home Depot has distance with \"customer\" of : \n",
      "[[0.7279172]]\n",
      "IBM has distance with \"customer\" of : \n",
      "[[0.31825528]]\n",
      "Intel has distance with \"customer\" of : \n",
      "[[0.63175505]]\n",
      "Johnson and Johnson has distance with \"customer\" of : \n",
      "[[0.00096942]]\n",
      "JPMorgan Chase has distance with \"customer\" of : \n",
      "[[-0.06441884]]\n",
      "McDonald's has distance with \"customer\" of : \n",
      "[[0.53919184]]\n",
      "Microsoft has distance with \"customer\" of : \n",
      "[[0.5572297]]\n",
      "Nike has distance with \"customer\" of : \n",
      "[[0.65377444]]\n",
      "P&G has distance with \"customer\" of : \n",
      "[[0.20435478]]\n",
      "Pfizer has distance with \"customer\" of : \n",
      "[[-0.12014069]]\n",
      "Travelers has distance with \"customer\" of : \n",
      "[[-0.6429227]]\n",
      "United Technologies Corporation has distance with \"customer\" of : \n",
      "[[0.49517712]]\n",
      "Verizon has distance with \"customer\" of : \n",
      "[[0.63742554]]\n",
      "Walmart has distance with \"customer\" of : \n",
      "[[0.77262044]]\n",
      "Cisco Systems has distance with \"customer\" of : \n",
      "[[0.50120884]]\n",
      "Microsoft has distance with \"customer\" of : \n",
      "[[0.5572297]]\n",
      "Nike has distance with \"customer\" of : \n",
      "[[0.65377444]]\n",
      "The Procter & Gamble Company 2017 Annual Rehas distance with \"customer\" of : \n",
      "[[0.42131257]]\n",
      "Walmart has distance with \"customer\" of : \n",
      "[[0.77262044]]\n"
     ]
    }
   ],
   "source": [
    "#distance between every letter and the word 'customer'\n",
    "for index, row in df.iterrows():\n",
    "    print(row['company'] + 'has distance with \"customer\" of : ')\n",
    "    print(sklearn.metrics.pairwise.cosine_similarity(lettersD2V['customer'].reshape(1,-1), lettersD2V.docvecs[row['company']].reshape(1,-1)))\n"
   ]
  },
  {
   "cell_type": "code",
   "execution_count": 62,
   "metadata": {},
   "outputs": [],
   "source": [
    "heatmapMatrix = []\n",
    "for tagOuter in keywords:\n",
    "    column = []\n",
    "    tagVec = lettersD2V.docvecs[tagOuter].reshape(1, -1)\n",
    "    for tagInner in keywords:\n",
    "        column.append(sklearn.metrics.pairwise.cosine_similarity(tagVec, lettersD2V.docvecs[tagInner].reshape(1, -1))[0][0])\n",
    "    heatmapMatrix.append(column)\n",
    "heatmapMatrix = np.array(heatmapMatrix)"
   ]
  },
  {
   "cell_type": "code",
   "execution_count": 63,
   "metadata": {
    "scrolled": true
   },
   "outputs": [
    {
     "data": {
      "image/png": "[encoded data removed]",
      "text/plain": [
       "<matplotlib.figure.Figure at 0x25c5cb3a860>"
      ]
     },
     "metadata": {},
     "output_type": "display_data"
    }
   ],
   "source": [
    "fig, ax = plt.subplots()\n",
    "hmap = ax.pcolor(heatmapMatrix, cmap='terrain')\n",
    "cbar = plt.colorbar(hmap)\n",
    "\n",
    "cbar.set_label('cosine similarity', rotation=270)\n",
    "a = ax.set_xticks(np.arange(heatmapMatrix.shape[1]) + 0.5, minor=False)\n",
    "a = ax.set_yticks(np.arange(heatmapMatrix.shape[0]) + 0.5, minor=False)\n",
    "\n",
    "a = ax.set_xticklabels(keywords, minor=False, rotation=270)\n",
    "a = ax.set_yticklabels(keywords, minor=False)"
   ]
  },
  {
   "cell_type": "code",
   "execution_count": 66,
   "metadata": {},
   "outputs": [],
   "source": [
    "targetDocs = df['company'][:10]\n",
    "\n",
    "heatmapMatrixD = []\n",
    "\n",
    "for tagOuter in targetDocs:\n",
    "    column = []\n",
    "    tagVec = lettersD2V.docvecs[tagOuter].reshape(1, -1)\n",
    "    for tagInner in targetDocs:\n",
    "        column.append(sklearn.metrics.pairwise.cosine_similarity(tagVec,lettersD2V.docvecs[tagInner].reshape(1, -1))[0][0])\n",
    "    heatmapMatrixD.append(column)\n",
    "heatmapMatrixD = np.array(heatmapMatrixD)"
   ]
  },
  {
   "cell_type": "code",
   "execution_count": 67,
   "metadata": {},
   "outputs": [
    {
     "data": {
      "image/png": "[encoded data removed]",
      "text/plain": [
       "<matplotlib.figure.Figure at 0x25c57a14e48>"
      ]
     },
     "metadata": {},
     "output_type": "display_data"
    }
   ],
   "source": [
    "fig, ax = plt.subplots()\n",
    "hmap = ax.pcolor(heatmapMatrixD, cmap='terrain')\n",
    "cbar = plt.colorbar(hmap)\n",
    "\n",
    "cbar.set_label('cosine similarity', rotation=270)\n",
    "a = ax.set_xticks(np.arange(heatmapMatrixD.shape[1]) + 0.5, minor=False)\n",
    "a = ax.set_yticks(np.arange(heatmapMatrixD.shape[0]) + 0.5, minor=False)\n",
    "\n",
    "a = ax.set_xticklabels(targetDocs, minor=False, rotation=270)\n",
    "a = ax.set_yticklabels(targetDocs, minor=False)"
   ]
  },
  {
   "cell_type": "markdown",
   "metadata": {},
   "source": [
    "these studies indicate that most letters commonly discuss customers, markets, and dividends, BUT communities, enviornment, education and help is less commonly focused. These could be interesting metrics to explore further."
   ]
  },
  {
   "cell_type": "markdown",
   "metadata": {},
   "source": [
    "# Projection"
   ]
  },
  {
   "cell_type": "markdown",
   "metadata": {},
   "source": [
    "We can also project word vectors to an arbitray semantic dimension. To demonstrate this possibility, let's first load a model trained with New York Times news articles. "
   ]
  },
  {
   "cell_type": "code",
   "execution_count": 68,
   "metadata": {},
   "outputs": [],
   "source": [
    "nytimes_model = gensim.models.KeyedVectors.load_word2vec_format('../data/nytimes_cbow.reduced.txt')"
   ]
  },
  {
   "cell_type": "markdown",
   "metadata": {},
   "source": [
    "First we can visualize with dimension reduction"
   ]
  },
  {
   "cell_type": "code",
   "execution_count": 69,
   "metadata": {},
   "outputs": [
    {
     "data": {
      "text/plain": [
       "array([[-0.343139, -0.117117, -0.50773 , ..., -0.995696,  0.921299,\n",
       "         0.943769],\n",
       "       [-0.362909, -0.263528,  0.032661, ..., -0.043032, -0.178965,\n",
       "         0.353556],\n",
       "       [-0.70167 , -0.344525, -0.320714, ...,  0.009001,  0.11055 ,\n",
       "         0.751077],\n",
       "       ...,\n",
       "       [-2.391626, -1.90143 ,  1.031182, ...,  2.947464,  1.01588 ,\n",
       "         2.00033 ],\n",
       "       [-2.432387, -1.161415,  1.060064, ...,  4.402381,  0.500471,\n",
       "         1.644596],\n",
       "       [ 0.981931,  0.628094, -0.747547, ...,  1.612927,  1.148063,\n",
       "         1.063776]], dtype=float32)"
      ]
     },
     "execution_count": 69,
     "metadata": {},
     "output_type": "execute_result"
    }
   ],
   "source": [
    "#words to create dimensions\n",
    "tnytTargetWords = ['man','him','he', 'woman', 'her', 'she', 'black','blacks','African', 'white', 'whites', 'Caucasian', 'rich', 'richer', 'richest', 'expensive', 'wealthy', 'poor', 'poorer', 'poorest', 'cheap', 'inexpensive']\n",
    "#words we will be mapping\n",
    "tnytTargetWords += [\"doctor\",\"lawyer\",\"plumber\",\"scientist\",\"hairdresser\", \"nanny\",\"carpenter\",\"entrepreneur\",\"musician\",\"writer\", \"banker\",\"poet\",\"nurse\", \"steak\", \"bacon\", \"croissant\", \"cheesecake\", \"salad\", \"cheeseburger\", \"vegetables\", \"beer\", \"wine\", \"pastry\", \"basketball\", \"baseball\", \"boxing\", \"softball\", \"volleyball\", \"tennis\", \"golf\", \"hockey\", \"soccer\"]\n",
    "\n",
    "\n",
    "wordsSubMatrix = []\n",
    "for word in tnytTargetWords:\n",
    "    wordsSubMatrix.append(nytimes_model[word])\n",
    "wordsSubMatrix = np.array(wordsSubMatrix)\n",
    "wordsSubMatrix"
   ]
  },
  {
   "cell_type": "code",
   "execution_count": 70,
   "metadata": {},
   "outputs": [],
   "source": [
    "pcaWordsNYT = sklearn.decomposition.PCA(n_components = 50).fit(wordsSubMatrix)\n",
    "reducedPCA_dataNYT = pcaWordsNYT.transform(wordsSubMatrix)\n",
    "#T-SNE is theoretically better, but you should experiment\n",
    "tsneWordsNYT = sklearn.manifold.TSNE(n_components = 2).fit_transform(reducedPCA_dataNYT)"
   ]
  },
  {
   "cell_type": "code",
   "execution_count": 71,
   "metadata": {},
   "outputs": [
    {
     "data": {
      "image/png": "[encoded data removed]",
      "text/plain": [
       "<matplotlib.figure.Figure at 0x2555be3ed30>"
      ]
     },
     "metadata": {},
     "output_type": "display_data"
    }
   ],
   "source": [
    "fig = plt.figure(figsize = (10,6))\n",
    "ax = fig.add_subplot(111)\n",
    "ax.set_frame_on(False)\n",
    "plt.scatter(tsneWordsNYT[:, 0], tsneWordsNYT[:, 1], alpha = 0) #Making the points invisible\n",
    "for i, word in enumerate(tnytTargetWords):\n",
    "    ax.annotate(word, (tsneWordsNYT[:, 0][i],tsneWordsNYT[:, 1][i]), size =  20 * (len(tnytTargetWords) - i) / len(tnytTargetWords))\n",
    "plt.xticks(())\n",
    "plt.yticks(())\n",
    "plt.show()"
   ]
  },
  {
   "cell_type": "markdown",
   "metadata": {},
   "source": [
    "Define some convenient functions for getting dimensions. "
   ]
  },
  {
   "cell_type": "code",
   "execution_count": 72,
   "metadata": {},
   "outputs": [],
   "source": [
    "def normalize(vector):\n",
    "    normalized_vector = vector / np.linalg.norm(vector)\n",
    "    return normalized_vector\n",
    "\n",
    "def dimension(model, positives, negatives):\n",
    "    diff = sum([normalize(model[x]) for x in positives]) - sum([normalize(model[y]) for y in negatives])\n",
    "    return diff"
   ]
  },
  {
   "cell_type": "markdown",
   "metadata": {},
   "source": [
    "Let's calculate three dimensions: gender, race, and class."
   ]
  },
  {
   "cell_type": "code",
   "execution_count": 73,
   "metadata": {},
   "outputs": [],
   "source": [
    "Gender = dimension(nytimes_model, ['man','him','he'], ['woman', 'her', 'she'])\n",
    "Race = dimension(nytimes_model, ['black','blacks','African'], ['white', 'whites', 'Caucasian'])\n",
    "Class = dimension(nytimes_model, ['rich', 'richer', 'richest', 'expensive', 'wealthy'], ['poor', 'poorer', 'poorest', 'cheap', 'inexpensive'])"
   ]
  },
  {
   "cell_type": "markdown",
   "metadata": {},
   "source": [
    "Here we have some words."
   ]
  },
  {
   "cell_type": "code",
   "execution_count": 74,
   "metadata": {},
   "outputs": [],
   "source": [
    "Occupations = [\"doctor\",\"lawyer\",\"plumber\",\"scientist\",\"hairdresser\", \"nanny\",\"carpenter\",\"entrepreneur\",\"musician\",\"writer\", \"banker\",\"poet\",\"nurse\"]\n",
    "\n",
    "Foods = [\"steak\", \"bacon\", \"croissant\", \"cheesecake\", \"salad\", \"cheeseburger\", \"vegetables\", \"beer\", \"wine\", \"pastry\"]\n",
    "\n",
    "Sports  = [\"basketball\", \"baseball\", \"boxing\", \"softball\", \"volleyball\", \"tennis\", \"golf\", \"hockey\", \"soccer\"]"
   ]
  },
  {
   "cell_type": "markdown",
   "metadata": {},
   "source": [
    "Define a function to project words in a word list to each of the three dimensions."
   ]
  },
  {
   "cell_type": "code",
   "execution_count": 75,
   "metadata": {},
   "outputs": [],
   "source": [
    "def makeDF(model, word_list):\n",
    "    g = []\n",
    "    r = []\n",
    "    c = []\n",
    "    for word in word_list:\n",
    "        g.append(sklearn.metrics.pairwise.cosine_similarity(nytimes_model[word].reshape(1,-1), Gender.reshape(1,-1))[0][0])\n",
    "        r.append(sklearn.metrics.pairwise.cosine_similarity(nytimes_model[word].reshape(1,-1), Race.reshape(1,-1))[0][0])\n",
    "        c.append(sklearn.metrics.pairwise.cosine_similarity(nytimes_model[word].reshape(1,-1), Class.reshape(1,-1))[0][0])\n",
    "    df = pandas.DataFrame({'gender': g, 'race': r, 'class': c}, index = word_list)\n",
    "    return df"
   ]
  },
  {
   "cell_type": "markdown",
   "metadata": {},
   "source": [
    "Get the projections."
   ]
  },
  {
   "cell_type": "code",
   "execution_count": 76,
   "metadata": {},
   "outputs": [],
   "source": [
    "OCCdf = makeDF(nytimes_model, Occupations) \n",
    "Fooddf = makeDF(nytimes_model, Foods)\n",
    "Sportsdf = makeDF(nytimes_model, Sports)"
   ]
  },
  {
   "cell_type": "markdown",
   "metadata": {},
   "source": [
    "Define some useful functions for plotting."
   ]
  },
  {
   "cell_type": "code",
   "execution_count": 77,
   "metadata": {},
   "outputs": [],
   "source": [
    "def Coloring(Series):\n",
    "    x = Series.values\n",
    "    y = x-x.min()\n",
    "    z = y/y.max()\n",
    "    c = list(plt.cm.rainbow(z))\n",
    "    return c\n",
    "\n",
    "def PlotDimension(ax,df, dim):\n",
    "    ax.set_frame_on(False)\n",
    "    ax.set_title(dim, fontsize = 20)\n",
    "    colors = Coloring(df[dim])\n",
    "    for i, word in enumerate(df.index):\n",
    "        ax.annotate(word, (0, df[dim][i]), color = colors[i], alpha = 0.6, fontsize = 12)\n",
    "    MaxY = df[dim].max()\n",
    "    MinY = df[dim].min()\n",
    "    plt.ylim(MinY,MaxY)\n",
    "    plt.yticks(())\n",
    "    plt.xticks(())"
   ]
  },
  {
   "cell_type": "markdown",
   "metadata": {},
   "source": [
    "Plot the occupational words in each of the three dimensions."
   ]
  },
  {
   "cell_type": "code",
   "execution_count": 78,
   "metadata": {
    "scrolled": true
   },
   "outputs": [
    {
     "data": {
      "image/png": "[encoded data removed]",
      "text/plain": [
       "<matplotlib.figure.Figure at 0x2555d40fbe0>"
      ]
     },
     "metadata": {},
     "output_type": "display_data"
    }
   ],
   "source": [
    "fig = plt.figure(figsize = (12,4))\n",
    "ax1 = fig.add_subplot(131)\n",
    "PlotDimension(ax1, OCCdf, 'gender')\n",
    "ax2 = fig.add_subplot(132)\n",
    "PlotDimension(ax2, OCCdf, 'race')\n",
    "ax3 = fig.add_subplot(133)\n",
    "PlotDimension(ax3, OCCdf, 'class')\n",
    "plt.show()"
   ]
  },
  {
   "cell_type": "markdown",
   "metadata": {},
   "source": [
    "Foods:"
   ]
  },
  {
   "cell_type": "code",
   "execution_count": 79,
   "metadata": {},
   "outputs": [
    {
     "data": {
      "image/png": "[encoded data removed]",
      "text/plain": [
       "<matplotlib.figure.Figure at 0x2555d4fe240>"
      ]
     },
     "metadata": {},
     "output_type": "display_data"
    }
   ],
   "source": [
    "fig = plt.figure(figsize = (12,4))\n",
    "ax1 = fig.add_subplot(131)\n",
    "PlotDimension(ax1, Fooddf, 'gender')\n",
    "ax2 = fig.add_subplot(132)\n",
    "PlotDimension(ax2, Fooddf, 'race')\n",
    "ax3 = fig.add_subplot(133)\n",
    "PlotDimension(ax3, Fooddf, 'class')\n",
    "plt.show()"
   ]
  },
  {
   "cell_type": "markdown",
   "metadata": {},
   "source": [
    "Sports:"
   ]
  },
  {
   "cell_type": "code",
   "execution_count": 80,
   "metadata": {},
   "outputs": [
    {
     "data": {
      "image/png": "[encoded data removed]",
      "text/plain": [
       "<matplotlib.figure.Figure at 0x2555d4fe390>"
      ]
     },
     "metadata": {},
     "output_type": "display_data"
    }
   ],
   "source": [
    "fig = plt.figure(figsize = (12,4))\n",
    "ax1 = fig.add_subplot(131)\n",
    "PlotDimension(ax1, Sportsdf, 'gender')\n",
    "ax2 = fig.add_subplot(132)\n",
    "PlotDimension(ax2, Sportsdf, 'race')\n",
    "ax3 = fig.add_subplot(133)\n",
    "PlotDimension(ax3, Sportsdf, 'class')\n",
    "plt.show()"
   ]
  },
  {
   "cell_type": "markdown",
   "metadata": {},
   "source": [
    "## <span style=\"color:red\">*Exercise 3*</span>\n",
    "\n",
    "<span style=\"color:red\">Construct cells immediately below this that identify semantic dimensions of interest from your data (e.g., gender: man-woman) and project words onto these dimensions. Plot the array of relevant words along each semantic dimension. Which words are most different. Which dimensions are most different? On which dimension are your words most different? Print three short textual examples from the corpus that illustrate the association you have explored.\n",
    "\n",
    "<span style=\"color:red\">***Stretch***: Project documents from your corpus along a dimension of interest. Sample relevant documents from your corpus with this functionality and explain your rationale? Calculate the cosine of the angle between two dimensions (encoded as vectors) of interest. What does this suggest about the relationship between them within your corpus? \n",
    "\n",
    "<span style=\"color:red\">***Stretch***: Create 90% bootstrap confidence intervals around your word projections onto a given dimension. Which words are *significantly* different on your semantic dimension of interest?"
   ]
  },
  {
   "cell_type": "code",
   "execution_count": 76,
   "metadata": {},
   "outputs": [
    {
     "data": {
      "text/plain": [
       "array([[ 0.4775646 ,  0.15524745, -0.1501412 , ..., -0.35718936,\n",
       "        -0.07046828,  0.32185656],\n",
       "       [ 0.25720197,  0.03766631, -0.17522086, ..., -0.14620027,\n",
       "         0.05844387,  0.14966191],\n",
       "       [ 0.1635307 ,  0.1429659 , -0.31265154, ..., -0.19315231,\n",
       "         0.06450877,  0.32934335],\n",
       "       ...,\n",
       "       [ 1.0744805 , -0.07470151,  0.05853174, ..., -0.6333186 ,\n",
       "        -0.45619148,  0.45847172],\n",
       "       [ 0.9384336 , -0.67244977,  0.1428034 , ...,  0.04342303,\n",
       "         1.001535  ,  0.29381168],\n",
       "       [ 1.7151235 , -0.77709526,  0.6498856 , ..., -0.28184712,\n",
       "         1.1531781 ,  0.3298708 ]], dtype=float32)"
      ]
     },
     "execution_count": 76,
     "metadata": {},
     "output_type": "execute_result"
    }
   ],
   "source": [
    "#words to create dimensions\n",
    "TargetWords = ['education','climate','environment', 'performance', 'diversity', 'women', 'man','white','black', 'growth', 'global', 'partnerships', 'deliver', 'dividend', 'government', 'best', 'future', 'poor', 'cash', 'system', 'management', 'value']\n",
    "#words we will be mapping\n",
    "TargetWords += [\"communities\",\"community\",\"business\",\"market\", \"company\",\"shareholder\",\"people\",\"customer\",\"customers\", \"employee\",\"employees\",\"board\", \"shareholders\", \"values\", \"market\", \"markets\", \"workers\", \"worker\", \"associates\", \"value\", \"businesses\", \"clients\", \"regulatory\", \"capital\", \"investments\", \"product\", \"consumer\", \"consumers\", \"services\", \"banks\", \"bank\"]\n",
    "\n",
    "\n",
    "wordsSubMatrix = []\n",
    "for word in TargetWords:\n",
    "    wordsSubMatrix.append(lettersW2V[word])\n",
    "wordsSubMatrix = np.array(wordsSubMatrix)\n",
    "wordsSubMatrix"
   ]
  },
  {
   "cell_type": "code",
   "execution_count": 77,
   "metadata": {},
   "outputs": [],
   "source": [
    "pcaWords = sklearn.decomposition.PCA(n_components = 50).fit(wordsSubMatrix)\n",
    "reducedPCA_data = pcaWords.transform(wordsSubMatrix)\n",
    "#T-SNE is theoretically better, but you should experiment\n",
    "tsneWords = sklearn.manifold.TSNE(n_components = 2).fit_transform(reducedPCA_data)"
   ]
  },
  {
   "cell_type": "code",
   "execution_count": 78,
   "metadata": {},
   "outputs": [
    {
     "data": {
      "image/png": "[encoded data removed]",
      "text/plain": [
       "<matplotlib.figure.Figure at 0x25c57c624a8>"
      ]
     },
     "metadata": {},
     "output_type": "display_data"
    }
   ],
   "source": [
    "fig = plt.figure(figsize = (10,6))\n",
    "ax = fig.add_subplot(111)\n",
    "ax.set_frame_on(False)\n",
    "plt.scatter(tsneWords[:, 0], tsneWords[:, 1], alpha = 0) #Making the points invisible\n",
    "for i, word in enumerate(TargetWords):\n",
    "    ax.annotate(word, (tsneWords[:, 0][i],tsneWords[:, 1][i]), size =  20 * (len(TargetWords) - i) / len(TargetWords))\n",
    "plt.xticks(())\n",
    "plt.yticks(())\n",
    "plt.show()"
   ]
  },
  {
   "cell_type": "code",
   "execution_count": 80,
   "metadata": {},
   "outputs": [],
   "source": [
    "def normalize(vector):\n",
    "    normalized_vector = vector / np.linalg.norm(vector)\n",
    "    return normalized_vector\n",
    "\n",
    "def dimension(model, positives, negatives):\n",
    "    diff = sum([normalize(model[x]) for x in positives]) - sum([normalize(model[y]) for y in negatives])\n",
    "    return diff"
   ]
  },
  {
   "cell_type": "code",
   "execution_count": 93,
   "metadata": {},
   "outputs": [],
   "source": [
    "#dimensions\n",
    "Performance = dimension(lettersW2V, ['growth','deliver','dividend','market'], ['customers', 'employees', 'people'])\n",
    "Community = dimension(lettersW2V, ['education','communities','people','partnerships'], ['business', 'market', 'management'])\n",
    "Stakeholders = dimension(lettersW2V, ['customer', 'diversity', 'worker', 'government', 'customers'], ['board', 'management', 'business', 'shareholder', 'shareholders'])"
   ]
  },
  {
   "cell_type": "code",
   "execution_count": 98,
   "metadata": {},
   "outputs": [],
   "source": [
    "#words\n",
    "value = [\"cash\",\"money\",\"dividend\",\"value\",\"future\", \"growth\",\"values\",\"earnings\",\"share\",\"stock\", \"company\",\"businesses\",\"plan\"]\n",
    "\n",
    "people = [ \"worker\", \"employee\", \"management\", \"education\", \"development\", \"improve\", \"associates\", \"clients\", \"client\"]\n",
    "\n",
    "product  = [\"deliver\", \"service\", \"product\", \"good\", \"business\", \"performance\", \"technology\", \"products\", \"improvements\"]"
   ]
  },
  {
   "cell_type": "code",
   "execution_count": 99,
   "metadata": {},
   "outputs": [],
   "source": [
    "#function projects words onto dimensions\n",
    "def makeDF(model, word_list):\n",
    "    p = []\n",
    "    c = []\n",
    "    s = []\n",
    "    for word in word_list:\n",
    "        p.append(sklearn.metrics.pairwise.cosine_similarity(lettersW2V[word].reshape(1,-1), Performance.reshape(1,-1))[0][0])\n",
    "        c.append(sklearn.metrics.pairwise.cosine_similarity(lettersW2V[word].reshape(1,-1), Community.reshape(1,-1))[0][0])\n",
    "        s.append(sklearn.metrics.pairwise.cosine_similarity(lettersW2V[word].reshape(1,-1), Stakeholders.reshape(1,-1))[0][0])\n",
    "    dfr = pandas.DataFrame({'performance': p, 'community': c, 'stakeholders': s}, index = word_list)\n",
    "    return dfr"
   ]
  },
  {
   "cell_type": "code",
   "execution_count": 100,
   "metadata": {
    "scrolled": true
   },
   "outputs": [],
   "source": [
    "#projections\n",
    "valuedf = makeDF(lettersW2V, value) \n",
    "peopledf = makeDF(lettersW2V, people)\n",
    "productdf = makeDF(lettersW2V, product)"
   ]
  },
  {
   "cell_type": "code",
   "execution_count": 101,
   "metadata": {},
   "outputs": [],
   "source": [
    "#plotting functions\n",
    "def Coloring(Series):\n",
    "    x = Series.values\n",
    "    y = x-x.min()\n",
    "    z = y/y.max()\n",
    "    c = list(plt.cm.rainbow(z))\n",
    "    return c\n",
    "\n",
    "def PlotDimension(ax,df, dim):\n",
    "    ax.set_frame_on(False)\n",
    "    ax.set_title(dim, fontsize = 20)\n",
    "    colors = Coloring(df[dim])\n",
    "    for i, word in enumerate(df.index):\n",
    "        ax.annotate(word, (0, df[dim][i]), color = colors[i], alpha = 0.6, fontsize = 12)\n",
    "    MaxY = df[dim].max()\n",
    "    MinY = df[dim].min()\n",
    "    plt.ylim(MinY,MaxY)\n",
    "    plt.yticks(())\n",
    "    plt.xticks(())"
   ]
  },
  {
   "cell_type": "markdown",
   "metadata": {},
   "source": [
    "value "
   ]
  },
  {
   "cell_type": "code",
   "execution_count": 102,
   "metadata": {
    "scrolled": true
   },
   "outputs": [
    {
     "data": {
      "image/png": "[encoded data removed]",
      "text/plain": [
       "<matplotlib.figure.Figure at 0x25c57c669b0>"
      ]
     },
     "metadata": {},
     "output_type": "display_data"
    }
   ],
   "source": [
    "#plot value words\n",
    "fig = plt.figure(figsize = (12,4))\n",
    "ax1 = fig.add_subplot(131)\n",
    "PlotDimension(ax1, valuedf, 'performance')\n",
    "ax2 = fig.add_subplot(132)\n",
    "PlotDimension(ax2, valuedf, 'community')\n",
    "ax3 = fig.add_subplot(133)\n",
    "PlotDimension(ax3, valuedf, 'stakeholders')\n",
    "plt.show()"
   ]
  },
  {
   "cell_type": "markdown",
   "metadata": {},
   "source": [
    "people:"
   ]
  },
  {
   "cell_type": "code",
   "execution_count": 103,
   "metadata": {},
   "outputs": [
    {
     "data": {
      "image/png": "[encoded data removed]",
      "text/plain": [
       "<matplotlib.figure.Figure at 0x25c53daba20>"
      ]
     },
     "metadata": {},
     "output_type": "display_data"
    }
   ],
   "source": [
    "#plot value words\n",
    "fig = plt.figure(figsize = (12,4))\n",
    "ax1 = fig.add_subplot(131)\n",
    "PlotDimension(ax1, peopledf, 'performance')\n",
    "ax2 = fig.add_subplot(132)\n",
    "PlotDimension(ax2, peopledf, 'community')\n",
    "ax3 = fig.add_subplot(133)\n",
    "PlotDimension(ax3, peopledf, 'stakeholders')\n",
    "plt.show()"
   ]
  },
  {
   "cell_type": "markdown",
   "metadata": {},
   "source": [
    "product:"
   ]
  },
  {
   "cell_type": "code",
   "execution_count": 104,
   "metadata": {},
   "outputs": [
    {
     "data": {
      "image/png": "[encoded data removed]",
      "text/plain": [
       "<matplotlib.figure.Figure at 0x25c57a0f7b8>"
      ]
     },
     "metadata": {},
     "output_type": "display_data"
    }
   ],
   "source": [
    "#plot value words\n",
    "fig = plt.figure(figsize = (12,4))\n",
    "ax1 = fig.add_subplot(131)\n",
    "PlotDimension(ax1, productdf, 'performance')\n",
    "ax2 = fig.add_subplot(132)\n",
    "PlotDimension(ax2, productdf, 'community')\n",
    "ax3 = fig.add_subplot(133)\n",
    "PlotDimension(ax3, productdf, 'stakeholders')\n",
    "plt.show()"
   ]
  },
  {
   "cell_type": "markdown",
   "metadata": {},
   "source": [
    "Creating the dimensions is a difficult study. I Find the 'value' words to be most interesting when projected on the performance and community dimensions."
   ]
  },
  {
   "cell_type": "code",
   "execution_count": 105,
   "metadata": {},
   "outputs": [
    {
     "name": "stdout",
     "output_type": "stream",
     "text": [
      "here is our plan for growing the boeing company.it covers\n",
      "three periods of time:near, medium and long term.the prime\n",
      "\n",
      "objective is to create converging and ever-increasing streams\n",
      "\n",
      "of value Ã for customers and shareholders.\n",
      "running healthy core businesses \n",
      "over the next three to five years, we have an extraordi-\n",
      "nary opportunity to increase operating margins.we can \n",
      "\n",
      "reach this goal by empowering boeing people to achieve \n",
      "\n",
      "substantial results.\n",
      "boeing has long been known for its many superb engineers,\n",
      "technicians and scientists.our leadership center in st.louis\n",
      "\n",
      "is multiplying their value by adding business skills to their\n",
      "\n",
      "extraordinary technical skills.we are turning managers into\n",
      "\n",
      "business leaders.over the past two years, we have put \n",
      "5,000managers through intensive courses to hone their business\n",
      "\n",
      "and leadership skills.every graduate of the center becomes a\n",
      "\n",
      "teacher to others.\n",
      "we are also putting systems into place to drive detailed finan-\n",
      "cial awareness and discipline deep into the organization Ã for\n",
      "\n",
      "teams on the shop floor and in the design office.for these\n",
      "\n",
      "teams, precise real-time information about costs, schedules,\n",
      "\n",
      "cycle times, inventories and quality is truly power.it is the\n",
      "\n",
      "power to plan, to innovate and to improve.\n",
      "business is also about seizing the initiative.we like the \n",
      "attitude expressed by one of our people, who said her job was\n",
      "\n",
      "Ãso challenging and excitingÃthat she couldnÃt Ãunderstand\n",
      "\n",
      "how anyone could have trusted her to do it.Ãwe want every\n",
      "\n",
      "single boeing employee to feel that way.we want them grab-\n",
      "\n",
      "bing for responsibility and exercising real business judgment.\n",
      "\n",
      "we want them daring to assume entrepreneurial risk while\n",
      "\n",
      "exercising their proven ability to reduce program risk.\n",
      "the progress we have made in our business performance Ã\n",
      "although still not up to our aspirations Ã gives us great \n",
      "\n",
      "confidence in our future success.across the company, we are\n",
      "\n",
      "driving toward a goal of double-digit operating margins.and\n",
      "we have a strong, cohesive \n"
     ]
    }
   ],
   "source": [
    "print(df['text'][4][:2000])"
   ]
  },
  {
   "cell_type": "markdown",
   "metadata": {},
   "source": [
    "The above text illustrates how people can be close together, such as customers and shareholders. Meanwhile employees and education are close together because htey are attempting to teach them new skills."
   ]
  },
  {
   "cell_type": "code",
   "execution_count": 106,
   "metadata": {
    "scrolled": true
   },
   "outputs": [
    {
     "name": "stdout",
     "output_type": "stream",
     "text": [
      "cardmembers, a reflection of our successful efforts to deepen relationships with\n",
      "clients. global trading continued to grow its business with financial institutions and pri-\n",
      "vate banking clients and expanded its capabilities to meet the needs of other ameri-\n",
      "\n",
      "can express units and clients.\n",
      "throughout the year, we continued to integrate the bankÃs activities with those of\n",
      "other american express units. we stepped up marketing of our private bankÃs ser-\n",
      "\n",
      "vices to a highly targeted group of cardmembers outside the united states, while\n",
      "\n",
      "the companyÃs international card business made platinum cards\n",
      "Â¨available to qual-ified aeb clients. in addition, we continued to see increased sales of our american\n",
      "\n",
      "express funds and the american express offshore alternative investment fund,\n",
      "\n",
      "both of which have portfolios managed by american express financial advisors.\n",
      "\n",
      "we also market aefainvestment certificates, and operate a joint venture with aefa\n",
      "\n",
      "to market deposit products. \n",
      "these efforts were helped with the creation of the new global financial services\n",
      "(gfs) group in june. this internal american express organization will help coordi-\n",
      "\n",
      "nate the activities and resources of aeb, american express financial advisors, the\n",
      "\n",
      "companyÃs international card and network businesses and global brokerage and\n",
      "\n",
      "membership b@nking. for aeb clients this means increased availability of other\n",
      "\n",
      "american express products and for clients of other american express units greater\n",
      "\n",
      "access to the bankÃs expertise and products. for american express shareholders, it\n",
      "\n",
      "means aeb will be able to more effectively leverage the companyÃs operational\n",
      "\n",
      "resources and expertise which will further help the bank reduce costs. \n",
      "in our corporate banking unit we continued to reduce the size of our corporate\n",
      "lending business. at year-end our corporate loan portfolio stood at $1.8 billion com-\n",
      "\n",
      "pared to $1.9 billion at the end of 1999. this reduction is in line with our stated strat-\n",
      "\n",
      "egy of emphasizing businesses that are\n"
     ]
    }
   ],
   "source": [
    "print(df['text'][2][:2000])"
   ]
  },
  {
   "cell_type": "markdown",
   "metadata": {},
   "source": [
    "The above text illustrates how 'clients' is similar to customers, business, and performance."
   ]
  },
  {
   "cell_type": "code",
   "execution_count": 107,
   "metadata": {},
   "outputs": [
    {
     "name": "stdout",
     "output_type": "stream",
     "text": [
      "The Most Admired Telecommunications Company\n",
      "Verizon is committed to putting our customers first by providing excellent \n",
      "service and great communications experiences. Weâ¢re also a responsible \n",
      "\n",
      "corporate citizen, using our broadband and wireless networks to help \n",
      "\n",
      "make lives better. Our hard work and dedication are paying off Å in the \n",
      "\n",
      "most recent rankings of the ï¬Worldâ¢s Most Admired Companiesï¬ by \n",
      "Fortune\n",
      "\n",
      "magazine, Verizon was named #1 in the global telecommunications sector, \n",
      "\n",
      "according to our peers. Our goal is to tap the potential of our employees \n",
      "\n",
      "and our networks to address social issues that are critical to the well-being \n",
      "\n",
      "of the communities we serve.\n",
      "Network Innovation\n",
      "Verizonâ¢s intelligent broadband networks are powerful engines of growth \n",
      "\n",
      "and innovation that will continue to have a positive impact on many of \n",
      "\n",
      "the issues facing our society. As broadband becomes deeply embedded \n",
      "\n",
      "in the lives of our customers, more Americans will have access to quality \n",
      "\n",
      "education and efficient healthcare. For people with disabilities and physical \n",
      "\n",
      "challenges, broadband enables increased accessibility Å for example, our \n",
      "\n",
      "wireless service for the visually impaired converts text into speech. In 2009, \n",
      "\n",
      "BusinessWeek\n",
      " ranked Verizon 30th on its list of Most Innovative Companies, \n",
      "\n",
      "citing the high quality of our wireless network, the rollout of our FiOS fiber-\n",
      "\n",
      "optic service and the upcoming launch of our 4G wireless network. \n",
      "Empowering Employees\n",
      "Verizon is committed to offering our employees an environment where \n",
      "\n",
      "they can gain new skills and work in an exciting growth industry. We \n",
      "\n",
      "provide progressive health and benefit packages and encourage a balance \n",
      "\n",
      "between work and family life. As a result, Verizon is frequently recognized as \n",
      "\n",
      "a great place to work. \n",
      "Working Mother\n",
      " magazine named Verizon one of the \n",
      "\n",
      "ï¬100 Best Companies for Working Mothersï¬ nine years in a row, as well as \n",
      "\n",
      "one of the ï¬Best Companies for Multicultural Womenï¬ for the fourth \n"
     ]
    }
   ],
   "source": [
    "print(df['text'][82][:2000])"
   ]
  },
  {
   "cell_type": "markdown",
   "metadata": {},
   "source": [
    "The above shows that employees and community are both ranked highly on the people dimension"
   ]
  },
  {
   "cell_type": "code",
   "execution_count": null,
   "metadata": {},
   "outputs": [],
   "source": []
  }
 ],
 "metadata": {
  "anaconda-cloud": {},
  "kernelspec": {
   "display_name": "Python 3",
   "language": "python",
   "name": "python3"
  },
  "language_info": {
   "codemirror_mode": {
    "name": "ipython",
    "version": 3
   },
   "file_extension": ".py",
   "mimetype": "text/x-python",
   "name": "python",
   "nbconvert_exporter": "python",
   "pygments_lexer": "ipython3",
   "version": "3.6.2"
  }
 },
 "nbformat": 4,
 "nbformat_minor": 1
}
